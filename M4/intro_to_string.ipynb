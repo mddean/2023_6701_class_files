{
 "cells": [
  {
   "cell_type": "markdown",
   "metadata": {},
   "source": [
    "# Introduction to String Manipulation and Reading Files\n",
    "\n",
    "We'll re-examine some of the basic string manipulation we have seen before and then move on to reading files.\n",
    "\n",
    "## String Manipulation\n",
    "\n",
    "Recall that a string object in Python is technically a sequence of characters. We can access elements of a string the same way access elements of any sequence, with the square bracket notation and index, `[index]`. Indexing starts at 0."
   ]
  },
  {
   "cell_type": "code",
   "execution_count": null,
   "metadata": {},
   "outputs": [],
   "source": [
    "# Create a silly string\n",
    "s = 'This is just a silly string that contains all kinds of nonsense.'"
   ]
  },
  {
   "cell_type": "code",
   "execution_count": null,
   "metadata": {},
   "outputs": [],
   "source": [
    "# Let's see how long the string is\n",
    "print(f'The string s is {len(s)} characters long.')"
   ]
  },
  {
   "cell_type": "code",
   "execution_count": null,
   "metadata": {
    "scrolled": true
   },
   "outputs": [],
   "source": [
    "# Iterate through the string using a basic for loop\n",
    "# This will print each character on a separate line\n",
    "for char in s:\n",
    "    print(char)"
   ]
  },
  {
   "cell_type": "code",
   "execution_count": null,
   "metadata": {},
   "outputs": [],
   "source": [
    "# You can also slice a string\n",
    "print(f's[4:9] = \"{s[4:9]}\"')"
   ]
  },
  {
   "cell_type": "code",
   "execution_count": null,
   "metadata": {},
   "outputs": [],
   "source": [
    "# Starting at far right-hand-side and going left\n",
    "print(f's[-1:-5:-1] = {s[-1:-5:-1]}')"
   ]
  },
  {
   "cell_type": "markdown",
   "metadata": {},
   "source": [
    "----\n",
    "\n",
    "<font color='red' size = '5'> Student Exercise </font>\n",
    "\n",
    "In the **Code** cells below write code to completely reverse the sentence `s`. \n",
    "\n",
    "-----"
   ]
  },
  {
   "cell_type": "code",
   "execution_count": null,
   "metadata": {},
   "outputs": [],
   "source": [
    "# What if I wanted to completely reverse the characters in sentence?\n",
    "# YOUR CODE HERE\n"
   ]
  },
  {
   "cell_type": "markdown",
   "metadata": {},
   "source": [
    "### Changing the Case of a String\n",
    "We can change a string to lower case by using `.lower()`. Similarly, we can convert a string to upper case using the function `.upper()`."
   ]
  },
  {
   "cell_type": "code",
   "execution_count": null,
   "metadata": {},
   "outputs": [],
   "source": [
    "# Changing the case of a string\n",
    "print(f's.lower() = {s.lower()}')\n",
    "print(f's.upper() = {s.upper()}')"
   ]
  },
  {
   "cell_type": "markdown",
   "metadata": {},
   "source": [
    "### Searching Within a String\n",
    "\n",
    "We can also search within a string using some built-in methods. The method `.find()` will return the index of the first occurrence of the substring you pass to it. It will return `-1` if it does not find the substring. There are optional arguments that lets you specify within the range `[start, end]`."
   ]
  },
  {
   "cell_type": "code",
   "execution_count": null,
   "metadata": {},
   "outputs": [],
   "source": [
    "# Find the first occurrence of \"a\"\n",
    "s.lower().find('a')"
   ]
  },
  {
   "cell_type": "code",
   "execution_count": null,
   "metadata": {},
   "outputs": [],
   "source": [
    "# Find the first occurrence of \"that\"\n",
    "s.lower().find('that')"
   ]
  },
  {
   "cell_type": "code",
   "execution_count": null,
   "metadata": {},
   "outputs": [],
   "source": [
    "# Find the first occurrence of \"these\"\n",
    "# \"these\" is not in the string s, so we get back -1\n",
    "s.lower().find('these')"
   ]
  },
  {
   "cell_type": "code",
   "execution_count": null,
   "metadata": {},
   "outputs": [],
   "source": [
    "# See if there is another \"a\" after the first one we found before\n",
    "# Not giving an \"end\" will assume from start to the end of the string\n",
    "# Where is the first occurrence of \"a\" starting from index 14?\n",
    "s.lower().find('a', 14)"
   ]
  },
  {
   "cell_type": "code",
   "execution_count": null,
   "metadata": {},
   "outputs": [],
   "source": [
    "# Any \"a\" between index 14 and 30\n",
    "s.lower().find('a', 14, 30)"
   ]
  },
  {
   "cell_type": "markdown",
   "metadata": {},
   "source": [
    "So, the argument `end` is **exclusive**. Try changing the end to 31."
   ]
  },
  {
   "cell_type": "code",
   "execution_count": null,
   "metadata": {},
   "outputs": [],
   "source": [
    "s.lower().find('a', 14, 31)"
   ]
  },
  {
   "cell_type": "markdown",
   "metadata": {},
   "source": [
    "We also have the convenience methods of `startswith()` and `endswith()` that return `True` or `False`."
   ]
  },
  {
   "cell_type": "code",
   "execution_count": null,
   "metadata": {},
   "outputs": [],
   "source": [
    "s.lower().startswith('in the')"
   ]
  },
  {
   "cell_type": "code",
   "execution_count": null,
   "metadata": {},
   "outputs": [],
   "source": [
    "s.lower().startswith('this')"
   ]
  },
  {
   "cell_type": "code",
   "execution_count": null,
   "metadata": {},
   "outputs": [],
   "source": [
    "s.lower().endswith('.')"
   ]
  },
  {
   "cell_type": "code",
   "execution_count": null,
   "metadata": {},
   "outputs": [],
   "source": [
    "s.lower().endswith('sense.')"
   ]
  },
  {
   "cell_type": "code",
   "execution_count": null,
   "metadata": {},
   "outputs": [],
   "source": [
    "# Is the string s lower case? What if you call .lower()?\n",
    "print(f's.islower() = {s.islower()}')\n",
    "print(f's.lower().islower() = {s.lower().islower()}')"
   ]
  },
  {
   "cell_type": "markdown",
   "metadata": {},
   "source": [
    "#### Checking Character Contents of String\n",
    "\n",
    "We can check to see if the string contains only alphabetical characters, only digits, or only alphanumerical characters."
   ]
  },
  {
   "cell_type": "code",
   "execution_count": null,
   "metadata": {},
   "outputs": [],
   "source": [
    "# Does s contain only alphabetical characters?\n",
    "s.lower().isalpha()"
   ]
  },
  {
   "cell_type": "code",
   "execution_count": null,
   "metadata": {},
   "outputs": [],
   "source": [
    "# Does s contain only digits?\n",
    "s.lower().isdigit()"
   ]
  },
  {
   "cell_type": "code",
   "execution_count": null,
   "metadata": {},
   "outputs": [],
   "source": [
    "# Does s contain only alphanumeric characters?\n",
    "s.lower().isalnum()"
   ]
  },
  {
   "cell_type": "markdown",
   "metadata": {},
   "source": [
    "Those all came back `False`. There are two reasons:\n",
    "\n",
    "1. There are spaces in the string (whitespace).\n",
    "2. There is a period at the end of the sentence.\n",
    "\n",
    "So, let's try another string to test our intuition."
   ]
  },
  {
   "cell_type": "markdown",
   "metadata": {},
   "source": [
    "----\n",
    "\n",
    "<font color='red' size = '5'> Student Exercise </font>\n",
    "\n",
    "In the **Code** cells below, we first create a test string called `test`. Then add code to the subsequent cell to try out the different ways to check the contents of a string.\n",
    "\n",
    "-----"
   ]
  },
  {
   "cell_type": "code",
   "execution_count": null,
   "metadata": {},
   "outputs": [],
   "source": [
    "# Create a test string called 'test'\n",
    "test = '1234abcdUPPER'"
   ]
  },
  {
   "cell_type": "code",
   "execution_count": null,
   "metadata": {},
   "outputs": [],
   "source": [
    "# testing out .isalpha(), .isalnum(), etc.\n",
    "# print out various tests on the string test\n",
    "# YOUR CODE HERE\n"
   ]
  },
  {
   "cell_type": "markdown",
   "metadata": {},
   "source": [
    "Let's go back to our original string `s` and remove the spaces and put the string in lower case."
   ]
  },
  {
   "cell_type": "code",
   "execution_count": null,
   "metadata": {},
   "outputs": [],
   "source": [
    "# Put in lower case and remove the spaces\n",
    "remove_spaces = ''.join(s.lower().split())\n",
    "remove_spaces"
   ]
  },
  {
   "cell_type": "code",
   "execution_count": null,
   "metadata": {},
   "outputs": [],
   "source": [
    "# What happens when we call .isalpha() now?\n",
    "remove_spaces.isalpha()"
   ]
  },
  {
   "cell_type": "code",
   "execution_count": null,
   "metadata": {},
   "outputs": [],
   "source": [
    "# Doesn't like the period (\".\")\n",
    "# Let's remove it with rstrip() and try again\n",
    "remove_spaces.rstrip('.').isalpha()"
   ]
  },
  {
   "cell_type": "markdown",
   "metadata": {},
   "source": [
    "#### Splitting and Joining Strings\n",
    "\n",
    "We just saw how to split a string an join it back together. By default, the when you call `split()` with no arguments, it will use whitespace as the delimiter for splitting the string. For our sentence `s` that is what we wanted. We then used `join` passing it the list of split words, specifying that there should be no characters between the elements of the list (each word in our case) when joining them. \n",
    "\n",
    "Now, let's create a new string and by joining the split original string with a new character `|`. Then, we'll try to split it using that delimiter."
   ]
  },
  {
   "cell_type": "code",
   "execution_count": null,
   "metadata": {},
   "outputs": [],
   "source": [
    "# Split s after making it lower case\n",
    "split_s = s.lower().split()\n",
    "print(split_s)"
   ]
  },
  {
   "cell_type": "code",
   "execution_count": null,
   "metadata": {},
   "outputs": [],
   "source": [
    "# Create a newS string that joins all of the elements in the\n",
    "# list with a pipe symbol \"|\" between each element\n",
    "new_s = '|'.join(split_s)\n",
    "print(new_s)"
   ]
  },
  {
   "cell_type": "code",
   "execution_count": null,
   "metadata": {},
   "outputs": [],
   "source": [
    "# Now split the newS using the new delimiter\n",
    "new_s.split(\"|\")"
   ]
  },
  {
   "cell_type": "markdown",
   "metadata": {},
   "source": [
    "## Reading from Files\n",
    "\n",
    "We've already seen how useful `pandas` can be for reading in .csv file and .xlsx files. These file are often **structured** data. There are many times when we have unstructured data in files that we also want to analyze. For example, we might want to parse emails, HTML (Hyper Text Markup Language), or JSON (JavaScript Object Notation) files. Each of these file types do have a structure to them, but not it is often not **tabular** like we saw with our .csv and Excel files. What this generally means is that we often will need to manually examine a representative sample of the file types that we want to parse to help us write code that will automate the task of \"reading\" these files."
   ]
  },
  {
   "cell_type": "markdown",
   "metadata": {},
   "source": [
    "### Reading Files\n",
    "\n",
    "Recall, there are several ways to read a file in. We emphasized earlier that you should use the `with` clause in conjunction with the `open()` function. \n",
    "\n",
    "- [`open()`](https://docs.python.org/3/library/functions.html#open) returns a [file object](https://docs.python.org/3/glossary.html#term-file-object), and is most commonly used with two arguments: `open(filename, mode)`.\n",
    "- Using the [`with`](https://docs.python.org/3/reference/compound_stmts.html#with) keyword. It is good practice to use the `with` keyword when dealing with file objects. The advantage is that the file is properly closed after its suite finishes, even if an exception is raised at some point. Using `with` is also much shorter than writing equivalent `try-finally` blocks.\n",
    "\n",
    "Once the file is open, you can call `read()` which will try to read the entire file. You can also read one line at a time with `readline()`."
   ]
  },
  {
   "cell_type": "markdown",
   "metadata": {},
   "source": [
    "### HTML file\n",
    "\n",
    "Let's look at a simple HTML file. All we are going to do is open the file, read in its content, covert it all to lower case, and store it in the variable `input_text`. We can then print the `input_text` to see what was in the file. We'll accomplish these tasks using the `with` clause."
   ]
  },
  {
   "cell_type": "code",
   "execution_count": null,
   "metadata": {},
   "outputs": [],
   "source": [
    "# 2. Use with statement\n",
    "with open('./data/sample.html', 'r') as f:\n",
    "    input_text = f.read().lower()\n",
    "    \n",
    "\n",
    "# We did not explicitly close the file, is it closed?\n",
    "print(f.closed)\n",
    "print(input_text)"
   ]
  },
  {
   "cell_type": "markdown",
   "metadata": {},
   "source": [
    "#### Splitting Lines\n",
    "\n",
    "We saw earlier that we could split a string into pieces using whitespace as the delimiter (by default) with `split()`. There is another way to split -- `splitlines()` which uses newline characters to split. Let's try both with our `inputText` variable."
   ]
  },
  {
   "cell_type": "code",
   "execution_count": null,
   "metadata": {},
   "outputs": [],
   "source": [
    "input_text.split()"
   ]
  },
  {
   "cell_type": "code",
   "execution_count": null,
   "metadata": {},
   "outputs": [],
   "source": [
    "input_text.splitlines()"
   ]
  },
  {
   "cell_type": "markdown",
   "metadata": {},
   "source": [
    "### Text Files\n",
    "\n",
    "Reading a text file (.txt) can be done just like we did with the HTML file. The preferred method is by using the `with` statement because it will close the file for us and forces us to think in the **context** of working with the file when it is open. That is, whatever code we put in the `with` statement will be executed with the file open which can be costly in terms of memory and processing time. \n",
    "\n"
   ]
  },
  {
   "cell_type": "code",
   "execution_count": null,
   "metadata": {},
   "outputs": [],
   "source": [
    "with open('./data/wordDoc.txt', 'r') as text_file:\n",
    "    my_text = text_file.read()\n",
    "    \n",
    "print(my_text)"
   ]
  },
  {
   "cell_type": "markdown",
   "metadata": {},
   "source": [
    "Let's split `my_text` using `splitlines()` after changing the case to lower case. We'll use a `for` loop to iterate over each element in the returned list."
   ]
  },
  {
   "cell_type": "code",
   "execution_count": null,
   "metadata": {},
   "outputs": [],
   "source": [
    "for line in my_text.lower().splitlines():\n",
    "    print('line is:\\n', line, sep='')\n",
    "    print()"
   ]
  },
  {
   "cell_type": "markdown",
   "metadata": {},
   "source": [
    "## Reading Multiple Files from Directory\n",
    "\n",
    "What if we want to read all the files, one at a time, in a directory and do something with each one? We can accomplish this task by using the `os` package that we've encountered before. Specifically, we will use `os.walk()` to \"walk\" the file tree.\n",
    "\n",
    "Let's try it."
   ]
  },
  {
   "cell_type": "code",
   "execution_count": null,
   "metadata": {},
   "outputs": [],
   "source": [
    "# import the os package\n",
    "import os"
   ]
  },
  {
   "cell_type": "code",
   "execution_count": null,
   "metadata": {},
   "outputs": [],
   "source": [
    "# find and walk the files found in the ./data subfolder\n",
    "# First just see what os.walk() looks like\n",
    "for i in os.walk('./data'):\n",
    "    print(i)"
   ]
  },
  {
   "cell_type": "code",
   "execution_count": null,
   "metadata": {},
   "outputs": [],
   "source": [
    "# Now walk the file tree opening and printing .txt files\n",
    "for root, dirs, files in os.walk('./data'):\n",
    "    for file in files:\n",
    "        if file.endswith('.txt'):\n",
    "            with open(os.path.join(root, file)) as text_file:\n",
    "                contents = text_file.read().lower()\n",
    "                print(f'file {os.path.join(root, file)} contains:')\n",
    "                print(contents)\n",
    "                print()"
   ]
  },
  {
   "cell_type": "markdown",
   "metadata": {
    "deletable": false,
    "editable": false
   },
   "source": [
    "**&copy; 2021 - Present: Matthew D. Dean, Ph.D.   \n",
    "Clinical Associate Professor of Business Analytics at William \\& Mary.**"
   ]
  }
 ],
 "metadata": {
  "kernelspec": {
   "display_name": "Python 3 (ipykernel)",
   "language": "python",
   "name": "python3"
  },
  "language_info": {
   "codemirror_mode": {
    "name": "ipython",
    "version": 3
   },
   "file_extension": ".py",
   "mimetype": "text/x-python",
   "name": "python",
   "nbconvert_exporter": "python",
   "pygments_lexer": "ipython3",
   "version": "3.8.8"
  }
 },
 "nbformat": 4,
 "nbformat_minor": 4
}
