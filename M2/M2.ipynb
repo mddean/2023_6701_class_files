{
 "cells": [
  {
   "cell_type": "markdown",
   "metadata": {},
   "source": [
    "# Module 2: Control Flow and Functions\n",
    "\n",
    "This module introduces the concepts of control flow within a Python program and the idea of code modularization. We will discuss Boolean and logical operators in Python and how they can be used to control the flow of a Python program by using conditional statements. We will also explore two different types of loops to control the flow of our programs. Then, we will learn about functions and how they can simplify developing and maintaining computer programs. We will also learn how to create and call functions in Python. \n",
    "\n",
    "\n",
    "## Learning Objectives\n",
    "\n",
    "- Write programs that incorporate conditional expressions and error handling\n",
    "- Write user-defined functions to modularize script, code, or programs\n",
    "- Practice writing iterative `for` and `while` loops\n",
    "- Transform and create data with comprehension statements\n"
   ]
  },
  {
   "cell_type": "markdown",
   "metadata": {},
   "source": [
    "## Control Flow\n",
    "\n",
    "In this section the all-important concept of **control flow** is introduced. First, algorithms are discussed along with how to represent them using both flowcharts and pseudocode. Next, `if` statements are introduced. `if` statements are the most basic control statement within a program. Then, we discuss how to repeat a task or action a specified number of times; this is called **iteration** or **looping**. Finally, the unique concept to Python called **comprehension statements** is also introduced.\n",
    "\n",
    "### Objectives\n",
    "\n",
    "By the end of this section, you will understand:\n",
    "\n",
    "- What an algorithm is\n",
    "- How to use flowcharts and pseudocode to represent an algorithm\n",
    "- How to write and use `if` statements\n",
    "- How to write and use `for` loops\n",
    "- How to create and use `while` loops\n",
    "- Comprehension statements \n",
    " \n",
    "### Video Tutorial\n",
    "\n",
    "We will be using the [control][control] notebook.\n",
    "\n",
    "\n",
    "### Additional Resources\n",
    "\n",
    "- The official Python documentation for [conditional statements][1]\n",
    "- The book _A Byte of Python_ includes an introduction to [conditional statements][2].\n",
    "- The book [*Think Python*][3] includes a discussion on conditional statements.\n",
    "- The official Python documentation for [list comprehensions][4].\n",
    "\n",
    "\n",
    "-----\n",
    "\n",
    "[1]: https://docs.python.org/3/tutorial/controlflow.html#if-statements\n",
    "[2]: https://python.swaroopch.com/control_flow.html\n",
    "[3]: http://greenteapress.com/thinkpython2/html/thinkpython2006.html\n",
    "[4]: https://docs.python.org/3/tutorial/datastructures.html#list-comprehensions\n",
    "\n",
    "[control]: control.ipynb"
   ]
  },
  {
   "cell_type": "markdown",
   "metadata": {},
   "source": [
    "## Functions\n",
    "\n",
    "A **function** is a way to modularize your code by grouping statements together that perform a specific task. Functions enable and encourage code reuse. You have already seen the use of functions such as the `print()` function. However, we are not limited to Python built-in functions nor functions in packages we import and use. We can write our own user-defined functions.\n",
    "\n",
    "### Objectives\n",
    "\n",
    "By the end of this section, you will understand:\n",
    "\n",
    "- What a Python function is\n",
    "- How to write and use user-defined Python functions\n",
    "- The importance of documentation strings with Python functions\n",
    "- Different ways to use parameters within functions\n",
    "- Variable scoping rules\n",
    "- How to write and use `lambda` functions \n",
    " \n",
    "### Video Tutorial\n",
    "\n",
    "We will be using the [functions][functions] notebook.\n",
    "\n",
    "\n",
    "### Additional Resources\n",
    "\n",
    "The following links are to additional documentation that you might find helpful in learning this material.\n",
    "\n",
    "- The wikibook [Python Programming/Functions][1] has information relevant to the advanced features of creating user-defined functions, much of what we did **not** cover, but is nonetheless very useful information. \n",
    "\n",
    "-----\n",
    "\n",
    "[1]: https://en.wikibooks.org/wiki/Python_Programming/Functions\n",
    "\n",
    "[functions]: functions.ipynb"
   ]
  },
  {
   "cell_type": "markdown",
   "metadata": {},
   "source": [
    "## Exceptions\n",
    "\n",
    "Errors within your code are inevitable, especially as you are learning the Python language and developing new Python scripts or programs. **Syntax errors** occur when you write statements that the Python interpreter cannot translate and run. You can think of these as \"speaking the wrong language\" to Python. **Exceptions** are errors detected during execution of your code. Your programming statements are syntactically correct, but cause an error when you run them.\n",
    "\n",
    "### Objectives\n",
    "\n",
    "By the end of this section, you will understand:\n",
    "\n",
    "- The difference between syntax errors and exceptions\n",
    "- How to handle exceptions\n",
    "- The various clauses and their proper uses in a `try/except` block\n",
    "- How to write and use `try/except` blocks \n",
    " \n",
    "### Video Tutorial\n",
    "\n",
    "We will be using the [exceptions][exceptions] notebook.\n",
    "\n",
    "\n",
    "### Additional Resources\n",
    "\n",
    "The following links point you to additional resources that you might find helpful in learning this material.\n",
    "\n",
    "1. The Python tutorial on [errors and exceptions][1].\n",
    "2. The list of [built-in exceptions and their meanings][2].\n",
    "\n",
    "\n",
    "-----\n",
    "\n",
    "[1]: https://docs.python.org/3/tutorial/errors.html\n",
    "[2]: https://docs.python.org/3/library/exceptions.html\n",
    "\n",
    "\n",
    "[exceptions]: exceptions.ipynb"
   ]
  },
  {
   "cell_type": "markdown",
   "metadata": {
    "deletable": false,
    "editable": false
   },
   "source": [
    "-----\n",
    "\n",
    "**&copy; 2022 - Present: Matthew D. Dean, Ph.D.   \n",
    "Clinical Associate Professor of Business Analytics at William \\& Mary.**"
   ]
  }
 ],
 "metadata": {
  "kernelspec": {
   "display_name": "Python 3 (ipykernel)",
   "language": "python",
   "name": "python3"
  },
  "language_info": {
   "codemirror_mode": {
    "name": "ipython",
    "version": 3
   },
   "file_extension": ".py",
   "mimetype": "text/x-python",
   "name": "python",
   "nbconvert_exporter": "python",
   "pygments_lexer": "ipython3",
   "version": "3.9.13"
  }
 },
 "nbformat": 4,
 "nbformat_minor": 4
}
