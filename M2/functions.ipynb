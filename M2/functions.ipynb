{
 "cells": [
  {
   "cell_type": "markdown",
   "metadata": {},
   "source": [
    "# Introduction to Functions\n",
    "\n",
    "-----"
   ]
  },
  {
   "cell_type": "markdown",
   "metadata": {},
   "source": [
    "We now introduce a modularization concept known as functions. Functions promote code reuse by encapsulating a particular set of programming statements into a single entity. This approach can be very beneficial since once a function is written and tested, it can confidently be reused many times, simplifying the development of new programs. When you have completed this notebook, you will be able to create and apply user-defined functions.\n",
    "\n",
    "-----"
   ]
  },
  {
   "cell_type": "markdown",
   "metadata": {},
   "source": [
    "## Built-in Python Functions\n",
    "\n",
    "The Python language provides built-in and convenience functions and additionally supports the creation and application of user-defined functions, which can simplify program development by promoting code reuse. We now revisit and introduce a number of built-in functions such as the `print` function. The `print` function displays messages and unformatted variables to the standard output. It can also easily display formatted output via f-strings, as we have previously seen.\n",
    "\n",
    "The Python programming language provides a number of [built-in functions][bpf] that you should learn to use properly. These built-in functions are always available. The following table presents some of the more useful built-in functions.\n",
    "\n",
    "| Built-in Function | Description                              |\n",
    "| ----------------- | ---------------------------------------- |\n",
    "| `abs(x)`          | Returns the absolute value of `x`        |\n",
    "| `divmod(x, y)`    | Returns both the quotient and remainder of `x/y` when using integer division |\n",
    "| `enumerate()`     | Returns an enumerate object              |\n",
    "| `float(x)`        | Returns `x` as a floating-point value    |\n",
    "| `help(x)`         | Prints a help message using the docstring for `x` |\n",
    "| `id()`            | Prints the numerical identifier associated with a name | \n",
    "| `input()`         | Displays a message prompting the user to enter text data |\n",
    "| `int(x)`          | Returns `x` as an integer value           |\n",
    "| `print()`         | Displays a message to the screen |\n",
    "| `pow(x, y)`       | Returns the exponential function `x**y`  |\n",
    "| `str(x)`          | Returns `x` as a string of characters |\n",
    "| `type(x)`         | Prints the data type for the variable `x` |\n",
    "| `zip()`           | Iterates over several iterables in parallel, producing tuples with an item for each one |\n",
    "\n",
    "We have already explored several of these function. In the following code cells, we demonstrate how to use several more of them.\n",
    "\n",
    "-----\n",
    "[bpf]: https://docs.python.org/3/library/functions.html#built-in-functions"
   ]
  },
  {
   "cell_type": "code",
   "execution_count": null,
   "metadata": {},
   "outputs": [],
   "source": [
    "# Demonstrate several built-in functions\n",
    "val = -3.2\n",
    "\n",
    "print(f'The variable named val is {val} and has type {type(val)}')\n",
    "print(f'The absolute value of val is {abs(val)}')"
   ]
  },
  {
   "cell_type": "code",
   "execution_count": null,
   "metadata": {},
   "outputs": [],
   "source": [
    "# The function `id` gives the \"address\" of the variable val\n",
    "print(f'Calling id(val) gives {id(val)}')"
   ]
  },
  {
   "cell_type": "code",
   "execution_count": null,
   "metadata": {},
   "outputs": [],
   "source": [
    "# Changing val means we store a different value, which uses a different location\n",
    "val = 1\n",
    "print(f'id(val) now gives {id(val)}')"
   ]
  },
  {
   "cell_type": "markdown",
   "metadata": {},
   "source": [
    "### The `enumerate` Function\n",
    "\n",
    "The `enumerate` function returns indices of the items in an iterable object like a `list`, `dictionary`, or `set`. Knowing the index of an element in an iterable object can be useful if, for example, you want to find the location for all the times the element appears in that data structure. Let's work through a few examples."
   ]
  },
  {
   "cell_type": "code",
   "execution_count": null,
   "metadata": {},
   "outputs": [],
   "source": [
    "# Define a list\n",
    "nums = [1, 5, 9, 23, 42, 13, 18, 17, 9, 5, 23, 32, 57, 89, 98]"
   ]
  },
  {
   "cell_type": "code",
   "execution_count": null,
   "metadata": {},
   "outputs": [],
   "source": [
    "# Call enumerate(nums) to see what happens\n",
    "print(f'Calling enumerate(nums) returns {enumerate(nums)}')\n",
    "print(f'The type returned is {type(enumerate(nums))}')"
   ]
  },
  {
   "cell_type": "code",
   "execution_count": null,
   "metadata": {},
   "outputs": [],
   "source": [
    "# We can wrap it in a list to see what it looks like\n",
    "print(list(enumerate(nums)))"
   ]
  },
  {
   "cell_type": "markdown",
   "metadata": {},
   "source": [
    "The returned `list` contains `tuple`s where the first element is the index (which starts at 0 by default) and the second element is the actual element in the list. We can then loop over the list using `enumerate` displaying both the index and the value at each index. "
   ]
  },
  {
   "cell_type": "code",
   "execution_count": null,
   "metadata": {},
   "outputs": [],
   "source": [
    "# Loop over nums using enumerate\n",
    "for i in enumerate(nums):\n",
    "    print(f'index is {i[0]:>3} with a value of {i[1]:>4}')"
   ]
  },
  {
   "cell_type": "code",
   "execution_count": null,
   "metadata": {},
   "outputs": [],
   "source": [
    "# You can also unpack the tuple\n",
    "for i, v in enumerate(nums):\n",
    "    print(f'index is {i:>3} with a value of {v:>4}')"
   ]
  },
  {
   "cell_type": "markdown",
   "metadata": {},
   "source": [
    "Suppose we wanted to find the location of all the times that the number 23 is in the list? We can easily do this with an `if` statement nested inside a `for` loop."
   ]
  },
  {
   "cell_type": "code",
   "execution_count": null,
   "metadata": {},
   "outputs": [],
   "source": [
    "# Find locations of all occurrences of 23\n",
    "for i, v in enumerate(nums):\n",
    "    if v == 23:\n",
    "        print(f'Found {v} at index {i:>2}')"
   ]
  },
  {
   "cell_type": "markdown",
   "metadata": {},
   "source": [
    "What about using `enumerate` with a dictionary? "
   ]
  },
  {
   "cell_type": "code",
   "execution_count": null,
   "metadata": {},
   "outputs": [],
   "source": [
    "# Create a small dictionary\n",
    "small = {'color': 'blue',\n",
    "        'size': 'L',\n",
    "        'price': 42.99}"
   ]
  },
  {
   "cell_type": "code",
   "execution_count": null,
   "metadata": {},
   "outputs": [],
   "source": [
    "# Loop over the keys\n",
    "for i in enumerate(small):\n",
    "    print(i)"
   ]
  },
  {
   "cell_type": "code",
   "execution_count": null,
   "metadata": {},
   "outputs": [],
   "source": [
    "# Loop over the items\n",
    "for i in enumerate(small.items()):\n",
    "    print(i)"
   ]
  },
  {
   "cell_type": "code",
   "execution_count": null,
   "metadata": {},
   "outputs": [],
   "source": [
    "# We can unpack the tuple\n",
    "# NOTE: The parentheses around (k,v) are necessary\n",
    "for i, (k, v) in enumerate(small.items()):\n",
    "    print(f'i is {i}, k is {k:>5}, v is {v:>5}')"
   ]
  },
  {
   "cell_type": "markdown",
   "metadata": {},
   "source": [
    "### The `zip` Function\n",
    "\n",
    "If you need to aggregate multiple iterable objects, you can use the `zip()` function. It returns a list of `tuple`s where each `tuple` contains the items from the matching indices of the original iterable objects. \n",
    "\n",
    "To make this concept more salient, let's look at an example. Suppose we have three different lists. The first, called `names`, contains the names of students. The second, named `social_classes`, contains the social class for each student (e.g., freshman, sophomore, etc.). The third list, named `grades`, contains the final numeric grade for the student. We want to combine all three lists using `zip`."
   ]
  },
  {
   "cell_type": "code",
   "execution_count": null,
   "metadata": {},
   "outputs": [],
   "source": [
    "# List of names\n",
    "names = ['Marco', 'Hilda', 'Luke', 'Andre']\n",
    "\n",
    "# List of social classes\n",
    "social_classes = ['freshman', 'sophomore', 'sophomore', 'junior']\n",
    "\n",
    "# List of grades\n",
    "grades = [78.2, 89.3, 84.1, 87.8]"
   ]
  },
  {
   "cell_type": "code",
   "execution_count": null,
   "metadata": {},
   "outputs": [],
   "source": [
    "# Just calling zip by itself returns a zip object\n",
    "zip(names, social_classes, grades)"
   ]
  },
  {
   "cell_type": "code",
   "execution_count": null,
   "metadata": {},
   "outputs": [],
   "source": [
    "# Wrap the result of zip in a list and print it\n",
    "records = list(zip(names, social_classes, grades))\n",
    "print(records)"
   ]
  },
  {
   "cell_type": "markdown",
   "metadata": {},
   "source": [
    "You may also want to use `zip` to loop over all three lists at the same time in a single `for` loop. Let's try it and simply print out some details."
   ]
  },
  {
   "cell_type": "code",
   "execution_count": null,
   "metadata": {},
   "outputs": [],
   "source": [
    "for name, social_class, grade in zip(names, social_classes, grades):\n",
    "    print(f'name is {name:>5}, social class is {social_class:>8}, grade is {grade:5}')"
   ]
  },
  {
   "cell_type": "markdown",
   "metadata": {},
   "source": [
    "What happens if the each `list` does not contain the same number of elements? Let's create a new list called `bad_grades` to only have two entries. What will happen when we try using `zip`?"
   ]
  },
  {
   "cell_type": "code",
   "execution_count": null,
   "metadata": {},
   "outputs": [],
   "source": [
    "# New list with fewer grades\n",
    "bad_grades = [78.2, 89.3]"
   ]
  },
  {
   "cell_type": "code",
   "execution_count": null,
   "metadata": {},
   "outputs": [],
   "source": [
    "# Try creating list with smaller grades list\n",
    "bad_records = list(zip(names, social_classes, bad_grades))\n",
    "print(bad_records)"
   ]
  },
  {
   "cell_type": "markdown",
   "metadata": {},
   "source": [
    "Notice that the resulting list will have the same number of elements, in order, as the list with the fewest elements. In our case, that was `bad_grades`, which only contained two elements. "
   ]
  },
  {
   "cell_type": "markdown",
   "metadata": {},
   "source": [
    "### Combining `enumerate` with `zip`\n",
    "\n",
    "If you want to get the indices and the elements of multiple lists at the same time, you can use `enumerate` and `zip` together. Similar to what we saw when we looped through a dictionary getting an index and the key and value, you have to enclose the elements of `zip` in parentheses. Let's try it with out with the student data we created earlier."
   ]
  },
  {
   "cell_type": "code",
   "execution_count": null,
   "metadata": {},
   "outputs": [],
   "source": [
    "# Loop over result of enumerate that was passed zip\n",
    "for i, (name, social_class, grade) in enumerate(zip(names, social_classes, grades)):\n",
    "    print(f'i is {i}: name is {name:>5}, social class is {social_class:>8}, grade is {grade:5}')"
   ]
  },
  {
   "cell_type": "markdown",
   "metadata": {},
   "source": [
    "<hr style=\"border:1px solid gray\">\n",
    "\n",
    "<font color='red' size = '5'> Student Exercise </font>\n",
    "\n",
    "Complete the following tasks in the empty code cells below:\n",
    "\n",
    "1. Run the code cell containing the definition of four lists.\n",
    "2. Using `enumerate` loop over the list `animals` printing the index and the value.\n",
    "3. Using `enumerate` loop over the list `colors` printing the index and the value.\n",
    "4. Combine the lists `colors` and `responses` and print it out.\n",
    "5. Combine the lists `animals` and `cities` and print it out. Explain what happened.\n",
    "6. Using `enumerate` and `zip`, loop over the resulting combination of all four lists, printing out each element.\n",
    "\n",
    "<hr style=\"border:1px solid gray\">"
   ]
  },
  {
   "cell_type": "code",
   "execution_count": null,
   "metadata": {},
   "outputs": [],
   "source": [
    "# 1. Run the code cell containing the definition of four lists.\n",
    "colors = ['red','orange','yellow','green','blue','indigo','violet']\n",
    "responses = [32, 12, 3, 41, 56, 9, 4]\n",
    "animals = ['zebra','mule deer','goat','bighorn sheep','antelope','elk']\n",
    "cities = ['Spokane','Istanbul','Tokyo','Delhi','Mexico City']"
   ]
  },
  {
   "cell_type": "code",
   "execution_count": null,
   "metadata": {},
   "outputs": [],
   "source": [
    "# 2. Using `enumerate` loop over the list `animals` printing the index and the value.\n"
   ]
  },
  {
   "cell_type": "code",
   "execution_count": null,
   "metadata": {},
   "outputs": [],
   "source": [
    "# 3. Using `enumerate` loop over the list `colors` printing the index and the value.\n"
   ]
  },
  {
   "cell_type": "code",
   "execution_count": null,
   "metadata": {},
   "outputs": [],
   "source": [
    "# 4. Combine the lists `colors` and `responses` and print it out.\n"
   ]
  },
  {
   "cell_type": "code",
   "execution_count": null,
   "metadata": {},
   "outputs": [],
   "source": [
    "# 5. Combine the lists `animals` and `cities` and print it out. Explain what happened.\n"
   ]
  },
  {
   "cell_type": "code",
   "execution_count": null,
   "metadata": {},
   "outputs": [],
   "source": [
    "# 6. Using `enumerate` and `zip`, loop over the resulting combination of all four lists, printing out each element.\n"
   ]
  },
  {
   "cell_type": "markdown",
   "metadata": {},
   "source": [
    "<hr style=\"border:1px solid gray\">\n",
    "\n",
    "## Minor Aside: Everything Is an Object\n",
    "\n",
    "In Python, everything is an object. This means data, functions, and data structures are all objects. If you ask, _'What is an object?'_ the simple answer is an object can be assigned to a variable or passed into a function as an argument. Thus, you can assign functions to a variable or pass a function as an argument to another function. In this course we won't dive into object-oriented programming concepts, but this approach makes Python a very powerful programming language that can be used to build amazing applications. \n"
   ]
  },
  {
   "cell_type": "markdown",
   "metadata": {},
   "source": [
    "<hr style=\"border:1px solid gray\">\n",
    "\n",
    "## User-Defined Functions\n",
    "\n",
    "Python also provides the ability to create new functions. A Python function is defined by using the `def` keyword, followed by the function name. After the function name is a set of matching parentheses that enclose any *parameters* to the function. A colon character follows the closing parenthesis, which signifies the start of the code block that provides the function implementation, which is known as the function body. The function body is indented four spaces to set it apart from the rest of the code in your program.\n",
    "\n",
    "As a simple example, the following function has no parameters and prints a simple message:\n",
    "\n",
    "```python\n",
    "def hello():\n",
    "    print('Hello World!')\n",
    "```\n",
    "\n",
    "This function is called in a Python program by simply using its name followed by the parentheses, `hello()`. When called (or invoked) this function will print out `Hello World!` to the display."
   ]
  },
  {
   "cell_type": "code",
   "execution_count": null,
   "metadata": {},
   "outputs": [],
   "source": [
    "# Demonstrate the print function\n",
    "# Create the user-defined function named hello()\n",
    "def hello():\n",
    "    print('Hello World!')"
   ]
  },
  {
   "cell_type": "code",
   "execution_count": null,
   "metadata": {},
   "outputs": [],
   "source": [
    "# Now call the user-defined function\n",
    "hello()"
   ]
  },
  {
   "cell_type": "markdown",
   "metadata": {},
   "source": [
    "<hr style=\"border:1px solid gray\">\n",
    "\n",
    "## Returning Values\n",
    "\n",
    "Most functions that you use accept input, process the input, and return a result. For example, the math function `abs` returns the absolute value of the number sent to it. In Python, we can write functions that return a result by using the `return` keyword followed by the result we wish to return. A Python function can return only one value. However, if we separate multiple values with a comma (or place them all inside parentheses where the values are separated by commas), we can return multiple values. Formally, this uses a data structure called a `tuple`, which we introduced earlier. \n",
    "\n",
    "These two return types are demonstrated in the following sample code:\n",
    "\n",
    "```python\n",
    "def hello2():\n",
    "    return 'Hello World!'\n",
    "\n",
    "def hello3():\n",
    "    return 'Hello', 'friend', 45\n",
    "```\n",
    "\n",
    "Calling the first function in this sample code as `msg = hello2()` will assign the string `Hello World!` to the `msg` variable, while calling the second of these functions as `msg3 = hello3()` will assign the tuple `('Hello', 'friend', 45)` to the `msg3` variable. Note that for the `hello3()` function, the returned tuple will have a string for the first two elements and an integer for the third element.\n",
    "\n",
    "Note, when returning multiple values as a tuple, we can either enclose the values in parentheses or simply separate them with commas as shown in the example. I tend to lean towards enclosing the values inside parentheses."
   ]
  },
  {
   "cell_type": "code",
   "execution_count": null,
   "metadata": {},
   "outputs": [],
   "source": [
    "# Define hello2 which returns the string 'Hello World!'\n",
    "def hello2():\n",
    "    return 'Hello World!'"
   ]
  },
  {
   "cell_type": "code",
   "execution_count": null,
   "metadata": {},
   "outputs": [],
   "source": [
    "# Try out hello2()\n",
    "msg = hello2()\n",
    "print(f'msg is {msg} and has type {type(msg)}')"
   ]
  },
  {
   "cell_type": "code",
   "execution_count": null,
   "metadata": {},
   "outputs": [],
   "source": [
    "# Define hello3 which returns a tuple of two strings and an int\n",
    "def hello3():\n",
    "    return 'Hello', 'friend', 45"
   ]
  },
  {
   "cell_type": "code",
   "execution_count": null,
   "metadata": {},
   "outputs": [],
   "source": [
    "# Try out hello3()\n",
    "msg3 = hello3()\n",
    "print(f'msg3 is {msg3} and has type {type(msg3)}')"
   ]
  },
  {
   "cell_type": "code",
   "execution_count": null,
   "metadata": {},
   "outputs": [],
   "source": [
    "# Loop over the returned tuple from hello3()\n",
    "for i in enumerate(msg3):\n",
    "    print(i)"
   ]
  },
  {
   "cell_type": "markdown",
   "metadata": {},
   "source": [
    "<hr style=\"border:1px solid gray\">\n",
    "\n",
    "<font color='red' size = '5'> Student Exercise </font>\n",
    "\n",
    "Complete the following tasks in the empty code cells below:\n",
    "\n",
    "1. Create a simple function that has no parameters and returns the result of the calculation `24*60`.\n",
    "2. Call your function, saving the returned result in a variable and then printing it out to ensure your code works correctly.\n",
    "3. Run the code cell that imports the package `datetime` and creates a variable called `now`.\n",
    "4. Create a simple function that has no parameters and returns the current date and the current time as a tuple. To get the date use `now.date()`. To retrieve the time use `now.time()`.\n",
    "5. Call your function, saving the returned result in a variable and then printing it out to ensure your code works correctly.\n",
    "6. Loop over the returned tuple, printing each element of the tuple.\n",
    "\n",
    "<hr style=\"border:1px solid gray\">"
   ]
  },
  {
   "cell_type": "code",
   "execution_count": null,
   "metadata": {},
   "outputs": [],
   "source": [
    "# 1. Create a simple function that has no parameters and \n",
    "# returns the result of the calculation `24*60`.\n"
   ]
  },
  {
   "cell_type": "code",
   "execution_count": null,
   "metadata": {},
   "outputs": [],
   "source": [
    "# 2. Call your function, saving the returned result in a variable\n",
    "# and then printing it out to ensure your code works correctly.\n"
   ]
  },
  {
   "cell_type": "code",
   "execution_count": null,
   "metadata": {},
   "outputs": [],
   "source": [
    "# 3. Run the code cell that imports the package `datetime` \n",
    "# and creates a variable called `now`.\n",
    "from datetime import datetime\n",
    "\n",
    "now = datetime.now()"
   ]
  },
  {
   "cell_type": "code",
   "execution_count": null,
   "metadata": {},
   "outputs": [],
   "source": [
    "# 4. Create a simple function that has no parameters and \n",
    "# returns the current date and the current time as a tuple.\n",
    "# To get the date use `now.date()`.\n",
    "# To retrieve the time use `now.time()`.\n"
   ]
  },
  {
   "cell_type": "code",
   "execution_count": null,
   "metadata": {},
   "outputs": [],
   "source": [
    "# 5. Call your function, saving the returned result in a variable\n",
    "# and then printing it out to ensure your code works correctly.\n"
   ]
  },
  {
   "cell_type": "code",
   "execution_count": null,
   "metadata": {},
   "outputs": [],
   "source": [
    "# 6. Loop over the returned tuple, printing each element of the tuple.\n"
   ]
  },
  {
   "cell_type": "markdown",
   "metadata": {},
   "source": [
    "<hr style=\"border:1px solid gray\">\n",
    "\n",
    "## Why Did I Do That? \n",
    "\n",
    "A standard practice is to employ a *docstring*, or documentation string, comment immediately after the function definition line to provide documentation for the function. Python docstrings help programmers using your function (or class or module) to understand what it does without having to read the detail of the implementation. You can also generate online (HTML) documentation directly from docstrings using [Sphinx](https://www.sphinx-doc.org/en/master/). A docstring comment is enclosed in triple-quotes, as shown below:\n",
    "\n",
    "```python\n",
    "\"\"\"Here is our demonstration docstring comment.\n",
    "The text can span multiple lines, until\n",
    "the closing set of quotes is employed.\n",
    "\"\"\"\n",
    "```\n",
    "\n",
    "The Python interpreter will by default use this docstring as the official function documentation, which typically is accessed by using the built-in `help()` function. This is demonstrated in the following code cells, where we define a function named `add()` that contains an exemplary docstring, call the function, and subsequently access the documentation.\n",
    "\n",
    "You will notice that this example shows two parameters. We will discuss parameters next.\n",
    "\n",
    "-----"
   ]
  },
  {
   "cell_type": "code",
   "execution_count": null,
   "metadata": {},
   "outputs": [],
   "source": [
    "# Define the add() function with a docstring\n",
    "def add(num1, num2):\n",
    "    \"\"\"\n",
    "    Add up two integer numbers.\n",
    "\n",
    "    This function simply wraps the ``+`` operator, and does not\n",
    "    do anything interesting, except for illustrating what\n",
    "    the docstring of a very simple function looks like.\n",
    "\n",
    "    Parameters\n",
    "    ----------\n",
    "    num1 : int\n",
    "        First number to add.\n",
    "    num2 : int\n",
    "        Second number to add.\n",
    "\n",
    "    Returns\n",
    "    -------\n",
    "    int\n",
    "        The sum of ``num1`` and ``num2``.\n",
    "\n",
    "    See Also\n",
    "    --------\n",
    "    subtract : Subtract one integer from another.\n",
    "\n",
    "    Examples\n",
    "    --------\n",
    "    >>> add(2, 2)\n",
    "    4\n",
    "    >>> add(25, 0)\n",
    "    25\n",
    "    >>> add(10, -10)\n",
    "    0\n",
    "    \"\"\"\n",
    "    return num1 + num2"
   ]
  },
  {
   "cell_type": "code",
   "execution_count": null,
   "metadata": {},
   "outputs": [],
   "source": [
    "# Call the function add()\n",
    "add(3,4)"
   ]
  },
  {
   "cell_type": "code",
   "execution_count": null,
   "metadata": {},
   "outputs": [],
   "source": [
    "# See the documentation string with help()\n",
    "help(add)"
   ]
  },
  {
   "cell_type": "markdown",
   "metadata": {},
   "source": [
    "<hr style=\"border:1px solid gray\">\n",
    "\n",
    "<font color='red' size = '5'> Student Exercise </font>\n",
    "\n",
    "Complete the following tasks in the empty code cell below:\n",
    "\n",
    "1. Copy the simple function you created in the previous student exercise and add an appropriate documentation string.\n",
    "2. Use the `help()` function to view your documentation string. \n",
    "\n",
    "<hr style=\"border:1px solid gray\">"
   ]
  },
  {
   "cell_type": "code",
   "execution_count": null,
   "metadata": {},
   "outputs": [],
   "source": [
    "# 1. Copy the simple function defined above and \n",
    "# add an appropriate documentation string.\n"
   ]
  },
  {
   "cell_type": "code",
   "execution_count": null,
   "metadata": {},
   "outputs": [],
   "source": [
    "# 2. Use the `help()` function to view your documentation string. \n"
   ]
  },
  {
   "cell_type": "markdown",
   "metadata": {},
   "source": [
    "<hr style=\"border:1px solid gray\">\n",
    "\n",
    "## Parameters\n",
    "\n",
    "When defining a function, you specify the parameters by listing them inside the parentheses of the function definition. As we've seen above, a function can have zero or more parameters. You use these parameter names within the function body to access the values that were passed to the function when it was called. For example, we can modify the original `hello()` function to take a `name` parameter that is used when printing out a welcome message:\n",
    "\n",
    "```python\n",
    "def hello(name):\n",
    "    \"\"\"Display a welcome message to the user.\"\"\"\n",
    "    print(f'Hello {name}')\n",
    "```\n",
    "\n",
    "When you call a function, you pass it *arguments*, one for each parameter defined in the function. Many people, including myself, use the terms parameters and arguments interchangeably. Technically, parameters are in the definition of the function and arguments are the values you send to the function when it is called. \n",
    "\n",
    "When our new function `hello()` called with an argument `William` with the statement `hello('William')`, it will print `Hello William`. "
   ]
  },
  {
   "cell_type": "code",
   "execution_count": null,
   "metadata": {},
   "outputs": [],
   "source": [
    "# Create our first function that takes an argument\n",
    "\n",
    "def hello(name):\n",
    "    \"\"\"Display a welcome message to the user.\"\"\"\n",
    "    print(f'Hello {name}')\n"
   ]
  },
  {
   "cell_type": "code",
   "execution_count": null,
   "metadata": {},
   "outputs": [],
   "source": [
    "# Try it out\n",
    "hello('William')"
   ]
  },
  {
   "cell_type": "code",
   "execution_count": null,
   "metadata": {},
   "outputs": [],
   "source": [
    "# Try another call to hello()\n",
    "hello(23)"
   ]
  },
  {
   "cell_type": "markdown",
   "metadata": {},
   "source": [
    "-----\n",
    "\n",
    "### Multiple Parameters\n",
    "\n",
    "Functions can be defined to have multiple parameters, in which case the different parameters are simply separated by commas between the parentheses. For example, the following code snippet creates a function that takes two parameters. \n",
    "\n",
    "```python\n",
    "def hello_message(name, text):\n",
    "    \"\"\"\n",
    "    Display a welcome message to the named user.\n",
    "    \n",
    "    \"\"\"\n",
    "    print(f'Hello {name}. {text}')\n",
    "```\n",
    "\n",
    "If this function is called as  `hello_message('Alex', 'Welcome to the class.')`,  the following output is displayed:\n",
    "\n",
    "```\n",
    "Hello Alex. Welcome to the class.\n",
    "```\n",
    "\n",
    "Notice that we continue to use *f-strings* for nice formatting.\n",
    "\n",
    "-----"
   ]
  },
  {
   "cell_type": "code",
   "execution_count": null,
   "metadata": {},
   "outputs": [],
   "source": [
    "# Define the hello_message() function with two parameters\n",
    "def hello_message(name, text):\n",
    "    \"\"\"\n",
    "    Display a welcome message to the named user.\n",
    "    \n",
    "    \"\"\"\n",
    "\n",
    "    print(f'Hello {name}. {text}')"
   ]
  },
  {
   "cell_type": "code",
   "execution_count": null,
   "metadata": {},
   "outputs": [],
   "source": [
    "# Call hello_message twice with different first arguments\n",
    "hello_message('Alex', 'Welcome to the class.')\n",
    "hello_message('Jane', 'Welcome to the class.')"
   ]
  },
  {
   "cell_type": "markdown",
   "metadata": {},
   "source": [
    "-----\n",
    "\n",
    "### Default Parameter Values\n",
    "\n",
    "\n",
    "In some cases, a function accepts one or more arguments that often have _default_ values. Python supports default parameters that enable a Python programmer to specify a default value for any parameter, but can be overridden if the user supplies a specific value. A default parameter is specified by simply including an equal sign and the default value after a specific parameter name, like `text = 'Welcome to the class.'`. With this default parameter for the `hello_message()` function, we could leave off the second argument when calling the function if desired.\n",
    "\n",
    "Default parameters are often used in functions that are part of large packages to simplify their use. New users can quickly call the functions, while advanced users can achieve more control of the function by specifying additional arguments explicitly. We demonstrate the use of default parameters below.\n",
    "\n",
    "----"
   ]
  },
  {
   "cell_type": "code",
   "execution_count": null,
   "metadata": {},
   "outputs": [],
   "source": [
    "# Redefine the hello_message function with a default text parameter\n",
    "def hello_message(name, text='Welcome to the class.'):\n",
    "    \"\"\"\n",
    "    Display a message to the named user. \n",
    "    \n",
    "    Parameters\n",
    "    -----------\n",
    "    name - The name of student\n",
    "    \n",
    "    text - The message to the student. Default value is:\n",
    "        'Welcome to the class.'\n",
    "    \n",
    "    Returns\n",
    "    -----------\n",
    "    None\n",
    "    \n",
    "    \"\"\"\n",
    "\n",
    "    print(f'Hello {name}. {text}') \n"
   ]
  },
  {
   "cell_type": "code",
   "execution_count": null,
   "metadata": {},
   "outputs": [],
   "source": [
    "# Call the function without the text parameter\n",
    "hello_message('Sarah')"
   ]
  },
  {
   "cell_type": "code",
   "execution_count": null,
   "metadata": {},
   "outputs": [],
   "source": [
    "# Now call the function with different text\n",
    "hello_message('Sam', 'Do you have any questions?')"
   ]
  },
  {
   "cell_type": "code",
   "execution_count": null,
   "metadata": {},
   "outputs": [],
   "source": [
    "test_return = hello_message('Marco')\n",
    "print(f'test_return is {test_return}')"
   ]
  },
  {
   "cell_type": "code",
   "execution_count": null,
   "metadata": {},
   "outputs": [],
   "source": [
    "# Redefine the hello_message function to return the string\n",
    "def hello_message(name, text='Welcome to the class.'):\n",
    "    \"\"\"\n",
    "    Return a string containing a message to the named user. \n",
    "    \n",
    "    Parameters\n",
    "    -----------\n",
    "    name - The name of student\n",
    "    \n",
    "    text - The message to the student. Default value is:\n",
    "        'Welcome to the class.'\n",
    "    \n",
    "    Returns\n",
    "    -----------\n",
    "    str - The concatenated message.\n",
    "    \n",
    "    \"\"\"\n",
    "\n",
    "    return f'Hello {name}. {text}'\n"
   ]
  },
  {
   "cell_type": "code",
   "execution_count": null,
   "metadata": {
    "scrolled": true
   },
   "outputs": [],
   "source": [
    "# Call the function without the text parameter\n",
    "result = hello_message('Sara')\n",
    "print(f'type(result): {type(result)}')\n",
    "print(result)"
   ]
  },
  {
   "cell_type": "markdown",
   "metadata": {},
   "source": [
    "### Positional Arguments\n",
    "\n",
    "What happens if you swap the values of the two arguments passed to `hello_message()`? When you run the code cell below, notice the result shows that the value for the `name` argument is the first one and the `text` message is the second one. Regardless of what value you pass in first as the first argument, our current function definition assumes it is the `name` of the student."
   ]
  },
  {
   "cell_type": "code",
   "execution_count": null,
   "metadata": {},
   "outputs": [],
   "source": [
    "# What happens if you reverse the values for the arguments?\n",
    "hello_message('Welcome to the class.', 'Sara')"
   ]
  },
  {
   "cell_type": "markdown",
   "metadata": {},
   "source": [
    "What happens when you call `hello()` without any arguments? Recall that it is expecting a value for `name`."
   ]
  },
  {
   "cell_type": "code",
   "execution_count": null,
   "metadata": {},
   "outputs": [],
   "source": [
    "hello()"
   ]
  },
  {
   "cell_type": "markdown",
   "metadata": {},
   "source": [
    "An error is returned because the function `hello()` is expecting one positional argument to be passed to it. The function was defined with the parameter `name` and did **not** have any default value. \n",
    "\n",
    "As you may notice from these examples, positional arguments pose some challenges. For example, you have to remember in which order the parameters were defined so that you pass the appropriate values when calling the function. While this may not be difficult for our small example function, more complex functions can quickly become challenging when they have numerous parameters. To overcome these challenges, you can call functions with **keyword arguments**, which we discuss next."
   ]
  },
  {
   "cell_type": "markdown",
   "metadata": {},
   "source": [
    "----\n",
    "\n",
    "### Keyword Arguments\n",
    "\n",
    "When calling a function you can use **keyword arguments** to pass arguments in *any* order. The syntax for doing so takes the form *parameter_name=value*. You are explicitly specifying which parameter should have which value when the function is called. When using keyword arguments, the order of the arguments listed in the function call is arbitrary and does not need to explicitly match the parameter order listed in the function definition. For example, we could call the `hello_message` function:\n",
    "\n",
    "```python\n",
    "hello_message(text='Do you have any questions?', name='Jane')\n",
    "```\n",
    "Let's try it.\n",
    "\n",
    "-----"
   ]
  },
  {
   "cell_type": "code",
   "execution_count": null,
   "metadata": {},
   "outputs": [],
   "source": [
    "# Try keyword arguments in different order than function definition\n",
    "print(hello_message(text='Do you have any questions?', name='Jane'))"
   ]
  },
  {
   "cell_type": "code",
   "execution_count": null,
   "metadata": {},
   "outputs": [],
   "source": [
    "# Can use keyword argument for name (text has default value)\n",
    "print(hello_message(name='Howard'))"
   ]
  },
  {
   "cell_type": "markdown",
   "metadata": {},
   "source": [
    "<hr style=\"border:1px solid gray\">\n",
    "\n",
    "<font color='red' size = '5'> Student Exercise </font>\n",
    "\n",
    "Complete the following tasks in code cells below:\n",
    "\n",
    "1. Write a function named `get_receipt` that has three parameters: `item`, `price`, and `tax_rate`. This function should return a string that contains a message indicating the `item`, its `price`, and the final payment value by calculating the tax. Be sure to include a docstring in the definition.\n",
    "2. Call `get_receipt('shirt',40,0.05)` function and print out the returned string to ensure your code works properly.\n",
    "3. Call `get_receipt(price=40, tax_rate=0.05, item='shirt')` function and print out the returned string to ensure your code works properly.\n",
    "4. Call `get_receipt('gum ball',0.50,0.05)` function and print out the returned string to ensure your code works properly.\n",
    "5. Call `get_receipt(tax_rate=0.05, item='gum ball', price=0.50)` function and print out the returned string to ensure your code works properly.\n",
    "\n",
    "\n",
    "<hr style=\"border:1px solid gray\">"
   ]
  },
  {
   "cell_type": "code",
   "execution_count": null,
   "metadata": {},
   "outputs": [],
   "source": [
    "# 1.  Write a function named `get_receipt` that has three parameters: \n",
    "# `item`, `price`, and `tax_rate`. This function should return a \n",
    "# string that contains a message indicating the `item`, its `price`, \n",
    "# and the final payment value by calculating the tax. Be sure to \n",
    "# include a docstring in the definition.\n"
   ]
  },
  {
   "cell_type": "code",
   "execution_count": null,
   "metadata": {},
   "outputs": [],
   "source": [
    "# 2. Call `get_receipt('shirt',40,0.05)` function and print out \n",
    "# the returned string to ensure your code works properly.\n"
   ]
  },
  {
   "cell_type": "code",
   "execution_count": null,
   "metadata": {},
   "outputs": [],
   "source": [
    "# 3. Call `get_receipt(price=40, tax_rate=0.05, item='shirt')` function and \n",
    "# print out the returned string to ensure your code works properly.\n"
   ]
  },
  {
   "cell_type": "code",
   "execution_count": null,
   "metadata": {},
   "outputs": [],
   "source": [
    "# 4. Call `get_receipt('gum ball',0.50,0.05)` function and print \n",
    "# out the returned string to ensure your code works properly.\n"
   ]
  },
  {
   "cell_type": "code",
   "execution_count": null,
   "metadata": {},
   "outputs": [],
   "source": [
    "# 5. Call `get_receipt(tax_rate=0.05, item='gum ball', price=0.50)` function \n",
    "# and print out the returned string to ensure your code works properly.\n"
   ]
  },
  {
   "cell_type": "markdown",
   "metadata": {},
   "source": [
    "<hr style=\"border:1px solid gray\">\n",
    "\n",
    "## Scope Rules\n",
    "\n",
    "Each variable or identifier has a *scope* that determines when you can use it in your program. To help conceptualize this, let's think about scope in terms of variables.\n",
    "\n",
    "### Global Scope\n",
    "\n",
    "Identifiers, such as variables, functions, and classes, defined outside of any function or class have **global scope**. **Global variables** are variables with global scope; they can be used in an interactive session (or Jupyter notebook file or .py file) anywhere after they are defined. \n",
    "\n",
    "### Local Scope\n",
    "\n",
    "Local variables have **local scope**. This concept is best illustrated by variables defined inside a function. The variable is \"in scope\" only from its definition to the end of the function's block. The variable goes \"out of scope\" when the function returns to its caller. The local variable can only be used inside the function that defines it.\n",
    "\n",
    "Here is another way to think of local scope. When a function is called, Python creates a new environment for that function. The new environment inherits everything from its calling environment. Any arguments passed to the function are created as variables in the function's environment. Those variables, and the function's environment, are deleted once the function returns a value or finishes execution. Functions may reference variables in their calling environment, i.e., the ones with global scope. However, if a function attempts to alter a variable in its calling environment, Python will create a new local variable with the same name. Any changes made to the local variable do not affect the calling environment. This subtlety is illustrated with the examples below."
   ]
  },
  {
   "cell_type": "markdown",
   "metadata": {},
   "source": [
    "<hr style=\"border:1px solid gray\">\n",
    "\n",
    "You can access global variables inside of functions."
   ]
  },
  {
   "cell_type": "code",
   "execution_count": null,
   "metadata": {},
   "outputs": [],
   "source": [
    "# Define x\n",
    "x = 15"
   ]
  },
  {
   "cell_type": "code",
   "execution_count": null,
   "metadata": {},
   "outputs": [],
   "source": [
    "# Define a simple function to access global variable x\n",
    "def access_global_x():\n",
    "    print(f'x printed from access_global_x() is {x}')"
   ]
  },
  {
   "cell_type": "code",
   "execution_count": null,
   "metadata": {},
   "outputs": [],
   "source": [
    "# Call access_global_x()\n",
    "access_global_x()"
   ]
  },
  {
   "cell_type": "markdown",
   "metadata": {},
   "source": [
    "You **cannot modify** a global variable inside of a function."
   ]
  },
  {
   "cell_type": "code",
   "execution_count": null,
   "metadata": {},
   "outputs": [],
   "source": [
    "# Define a function to try to modify the global variable x\n",
    "def try_modify():\n",
    "    x = 4.29\n",
    "    print(f'x printed from try_modify() is {x}')"
   ]
  },
  {
   "cell_type": "code",
   "execution_count": null,
   "metadata": {},
   "outputs": [],
   "source": [
    "# Call try_modify()\n",
    "try_modify()\n",
    "\n",
    "# Print out value of global variable x\n",
    "print(f'x outside of function is {x}')"
   ]
  },
  {
   "cell_type": "code",
   "execution_count": null,
   "metadata": {},
   "outputs": [],
   "source": [
    "# Create a function that prints id() of variables\n",
    "def try_modify2():\n",
    "    x = 4.29\n",
    "    print(f'x printed from try_modify2() is {x} with id {id(x)}')"
   ]
  },
  {
   "cell_type": "code",
   "execution_count": null,
   "metadata": {},
   "outputs": [],
   "source": [
    "# Print out x and its id\n",
    "print(f'x outside of function is {x} with id {id(x)}')\n",
    "\n",
    "# Call try_modify2()\n",
    "try_modify2()\n",
    "\n",
    "# Print out x and its id again\n",
    "print(f'x outside of function is {x} with id {id(x)}')"
   ]
  },
  {
   "cell_type": "markdown",
   "metadata": {},
   "source": [
    "What if you wanted to modify the global variable `x` inside of a function? This modification is possible, but you should be very careful doing it and make sure you understand the repercussions of it. You must use the `global` statement to declare the variable is defined in the global scope. "
   ]
  },
  {
   "cell_type": "code",
   "execution_count": null,
   "metadata": {},
   "outputs": [],
   "source": [
    "# Create function that changes global variable\n",
    "def modify_global():\n",
    "    global x\n",
    "    x = 4.29\n",
    "    print(f'x printed from modify_global() is {x} with id {id(x)}')"
   ]
  },
  {
   "cell_type": "code",
   "execution_count": null,
   "metadata": {},
   "outputs": [],
   "source": [
    "# Print out x and its id\n",
    "print(f'x outside of function is {x} with id {id(x)}')\n",
    "\n",
    "# Call modify_global()\n",
    "modify_global()\n",
    "\n",
    "# Print out x and its id again\n",
    "print(f'x outside of function is {x} with id {id(x)}')"
   ]
  },
  {
   "cell_type": "markdown",
   "metadata": {},
   "source": [
    "<hr style=\"border:1px solid gray\">\n",
    "\n",
    "## `lambda` Expressions\n",
    "\n",
    "Lambda expressions are similar to user-defined functions but are anonymous and more restrictive in their functionality. They are sometimes referred to as \"anonymous functions\". The terms lambda expression, lambda function, or simply lambda are often used interchangeably. Lambda functions are written as a single line of execution and can only contain expressions (instead of including statements in its body). For this reason, they are often used inline and embedded within other code statements. Lambda functions are efficient when you want to create a function that will only contain a simple expression, and they are useful when you are only going to use them once.\n",
    "\n",
    "To define a lambda function the syntax is:\n",
    "\n",
    "```python\n",
    "lambda parameter_list : expression\n",
    "```\n",
    "\n",
    "`lambda` is the keyword used to define the anonymous function. The `parameter_list` is the list of variables that will be used as parameters to the function. The code you want to execute is the `expression` section.\n",
    "\n",
    "Here is an example of a user-defined function that takes a number and squares it. The lambda function equivalent is shown below it.\n",
    "\n",
    "```python\n",
    "# User-defined function\n",
    "def square_it(num):\n",
    "    return num**2\n",
    "\n",
    "# Lambda equivalent\n",
    "lambda x:x**2\n",
    "```"
   ]
  },
  {
   "cell_type": "code",
   "execution_count": null,
   "metadata": {},
   "outputs": [],
   "source": [
    "# User-defined function\n",
    "def square_it(num):\n",
    "    return num**2"
   ]
  },
  {
   "cell_type": "code",
   "execution_count": null,
   "metadata": {},
   "outputs": [],
   "source": [
    "# Call square_it(4)\n",
    "square_it(4)"
   ]
  },
  {
   "cell_type": "code",
   "execution_count": null,
   "metadata": {},
   "outputs": [],
   "source": [
    "# Lambda equivalent\n",
    "lambda x:x**2"
   ]
  },
  {
   "cell_type": "markdown",
   "metadata": {},
   "source": [
    "Notice when we run the lambda expression the return value is telling us that we have created a lambda function with the parameter `x` (indicated by the `(x)` portion). The intention for many lambda expressions are to be used inside of other functions instead of directly. However, we have a couple of ways to use a lambda function by itself.\n",
    "\n",
    "First, we can call it with an argument by passing that argument inside parentheses immediately after defining the lambda expression. A second way is to assign the lambda expression to a variable. We can do this because it is an expression. Let's try both approaches."
   ]
  },
  {
   "cell_type": "code",
   "execution_count": null,
   "metadata": {},
   "outputs": [],
   "source": [
    "# Call it immediately\n",
    "# Note that we need to enclose the lambda inside parentheses\n",
    "(lambda x:x**2)(4)"
   ]
  },
  {
   "cell_type": "code",
   "execution_count": null,
   "metadata": {},
   "outputs": [],
   "source": [
    "# Assign the lambda to a variable\n",
    "lambda_var = lambda x:x**2\n",
    "\n",
    "# Call it\n",
    "lambda_var(4)"
   ]
  },
  {
   "cell_type": "markdown",
   "metadata": {},
   "source": [
    "As noted earlier, you will often see lambda functions inside of other functions. One common use is in sorting data structures. We create a list that contains strings. We want to sort them so that the \"numerical\" portions are in the proper order. Using the `sorted()` function will sort the list lexicographically. To sort the strings so that the numerical portions are in numerical order, we can use a lambda function and knowledge of the structure of the data."
   ]
  },
  {
   "cell_type": "code",
   "execution_count": null,
   "metadata": {},
   "outputs": [],
   "source": [
    "# Define a list of strings representing ids\n",
    "ids = ['id1', 'id2', 'id30', 'id3', 'id22', 'id100', 'id10001']"
   ]
  },
  {
   "cell_type": "code",
   "execution_count": null,
   "metadata": {},
   "outputs": [],
   "source": [
    "# Use sorted\n",
    "print(sorted(ids))"
   ]
  },
  {
   "cell_type": "code",
   "execution_count": null,
   "metadata": {},
   "outputs": [],
   "source": [
    "# Want the numerical portion to be the sort order\n",
    "# We need to pass the keyword argument key with how we want the list sorted\n",
    "sorted_ids = sorted(ids, key=lambda x: int(x[2:]))\n",
    "print(sorted_ids)"
   ]
  },
  {
   "cell_type": "markdown",
   "metadata": {},
   "source": [
    "<hr style=\"border:1px solid gray\">\n",
    "\n",
    "\n",
    "<font color='red' size = '5'> Student Exercise </font>\n",
    "\n",
    "Complete the following tasks in the empty code cells below:\n",
    "\n",
    "1. Create a variable named `first_element` that is assigned a lambda function that receives a sequence and returns the first element of that sequence.\n",
    "2. Test your lambda function by calling `first_element([100,200,300])`.\n",
    "3. Test your lambda function by calling `first_element('This is a string.')`.\n",
    "4. Create a variable named `square_max` that is assigned a lambda function that receives two numbers, finds the maximum of them, and returns the square of that number.\n",
    "5. Test your lambda function by calling `square_max(2,3)`.\n",
    "\n",
    "<hr style=\"border:1px solid gray\">\n"
   ]
  },
  {
   "cell_type": "code",
   "execution_count": null,
   "metadata": {},
   "outputs": [],
   "source": [
    "# 1. Create a variable named `first_element` that is \n",
    "# assigned a lambda function that receives a sequence \n",
    "# and returns the first element of that sequence.\n"
   ]
  },
  {
   "cell_type": "code",
   "execution_count": null,
   "metadata": {},
   "outputs": [],
   "source": [
    "# 2. Test your lambda function by calling `first_element([100,200,300])`.\n"
   ]
  },
  {
   "cell_type": "code",
   "execution_count": null,
   "metadata": {},
   "outputs": [],
   "source": [
    "# 3. Test your lambda function by calling `first_element('This is a string.')\n"
   ]
  },
  {
   "cell_type": "code",
   "execution_count": null,
   "metadata": {},
   "outputs": [],
   "source": [
    "# 4. Create a variable named `square_max` that is assigned a \n",
    "# lambda function that receives two numbers, finds the maximum \n",
    "# of them, and returns the square of that number.\n"
   ]
  },
  {
   "cell_type": "code",
   "execution_count": null,
   "metadata": {},
   "outputs": [],
   "source": [
    "# 5. Test your lambda function by calling `square_max(2,3)`.\n"
   ]
  },
  {
   "cell_type": "markdown",
   "metadata": {},
   "source": [
    "<hr style=\"border:1px solid gray\">\n",
    "\n",
    "## Ancillary Information\n",
    "\n",
    "The following links point you to additional resources that you might find helpful in learning this material.\n",
    "\n",
    "1. The official Python documentation for [functions][1].\n",
    "2. The book _A Byte of Python_ includes an introduction to [functions](https://python.swaroopch.com/functions.html).\n",
    "3. The book [_Think Python_][2] includes a discussion on functions.\n",
    "4. [PEP-257 - Docstring Conventions][3].\n",
    "\n",
    "\n",
    "-----\n",
    "\n",
    "[1]: https://docs.python.org/3/tutorial/controlflow.html#defining-functions\n",
    "[2]: https://greenteapress.com/thinkpython2/html/thinkpython2004.html\n",
    "[3]: https://peps.python.org/pep-0257/"
   ]
  },
  {
   "cell_type": "markdown",
   "metadata": {
    "deletable": false,
    "editable": false
   },
   "source": [
    "**&copy; 2022 - Present: Matthew D. Dean, Ph.D.   \n",
    "Clinical Associate Professor of Business Analytics at William \\& Mary.**"
   ]
  }
 ],
 "metadata": {
  "kernelspec": {
   "display_name": "Python 3 (ipykernel)",
   "language": "python",
   "name": "python3"
  },
  "language_info": {
   "codemirror_mode": {
    "name": "ipython",
    "version": 3
   },
   "file_extension": ".py",
   "mimetype": "text/x-python",
   "name": "python",
   "nbconvert_exporter": "python",
   "pygments_lexer": "ipython3",
   "version": "3.8.8"
  }
 },
 "nbformat": 4,
 "nbformat_minor": 1
}
