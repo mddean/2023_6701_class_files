{
 "cells": [
  {
   "cell_type": "markdown",
   "id": "966b559b",
   "metadata": {},
   "source": [
    "# Errors and Exceptions\n",
    "\n",
    "If you have been closely working through the examples, you have encountered a few errors. However, we have glossed over those errors and their error messages. We now want to explore two distinguishable kinds of error: *syntax errors* and *exceptions*. \n",
    "\n",
    "<hr style=\"border:1px solid gray\">"
   ]
  },
  {
   "cell_type": "markdown",
   "id": "be98940f",
   "metadata": {},
   "source": [
    "## When Things Go Awry\n",
    "\n",
    "### Syntax Errors\n",
    "\n",
    "You will undoubtedly encounter an abundance of syntax errors while you are still learning Python. In essence, you have tried to speak \"the wrong language\" to the Python interpreter. Let's look at some examples to try to understand syntax errors. "
   ]
  },
  {
   "cell_type": "code",
   "execution_count": null,
   "id": "8cc31ddc",
   "metadata": {},
   "outputs": [],
   "source": [
    "# This will cause a syntax error in Python 3\n",
    "print 'Hi'"
   ]
  },
  {
   "cell_type": "markdown",
   "id": "e2f11705",
   "metadata": {},
   "source": [
    "This particular syntax error is quite descriptive. It tells you that you are missing the parentheses and even gives you the correct syntax for the `print()` function. Let's try another one."
   ]
  },
  {
   "cell_type": "code",
   "execution_count": null,
   "id": "6ecd700e",
   "metadata": {},
   "outputs": [],
   "source": [
    "# This will give a syntax error\n",
    "for i in 'hello' print(i)"
   ]
  },
  {
   "cell_type": "markdown",
   "id": "a9ead9c7",
   "metadata": {},
   "source": [
    "This error is a bit more cryptic. What is happening here? The parser repeats the offending line and displays the caret symbol, `^`, pointing to the earliest point where the error was detected. The error is detected at the token **preceding** the indicator \"arrow\". In this example, the error is detected at the `print()` function because a colon, `:`, is missing before it. "
   ]
  },
  {
   "cell_type": "markdown",
   "id": "70920313",
   "metadata": {},
   "source": [
    "### Exceptions\n",
    "\n",
    "Errors detected during execution are are called *exceptions*. Exceptions occur when a statement is syntactically correct, but causes an error when you try to execute it. Exceptions are not necessarily fatal if you handle them (more on this topic below). However, most programs, especially when you are developing them, do not handle all possible exceptions resulting in error messages. Let's look at a few different exceptions. "
   ]
  },
  {
   "cell_type": "code",
   "execution_count": null,
   "id": "07fe0d05",
   "metadata": {},
   "outputs": [],
   "source": [
    "# Try to divide by zero\n",
    "101 / 0 "
   ]
  },
  {
   "cell_type": "markdown",
   "id": "795c6f76",
   "metadata": {},
   "source": [
    "The offending line is highlighted with `---->`. The error type is also shown. In this case we have a `ZeroDivisionError` indicating that while our statement was syntactically correct, division by zero is undefined mathematically. "
   ]
  },
  {
   "cell_type": "code",
   "execution_count": null,
   "id": "591d0716",
   "metadata": {},
   "outputs": [],
   "source": [
    "# Try using an undefined variable\n",
    "print(not_real)"
   ]
  },
  {
   "cell_type": "markdown",
   "id": "80053048",
   "metadata": {},
   "source": [
    "This time we have a `NameError` because the variable `not_real` was not defined."
   ]
  },
  {
   "cell_type": "code",
   "execution_count": null,
   "id": "353b5ba9",
   "metadata": {},
   "outputs": [],
   "source": [
    "# Try casting a non-numerical string to an int\n",
    "int('two')"
   ]
  },
  {
   "cell_type": "markdown",
   "id": "7ced30b9",
   "metadata": {},
   "source": [
    "A `ValueError` occurs because the `int()` function is expecting a string that only contains numerical digits."
   ]
  },
  {
   "cell_type": "code",
   "execution_count": null,
   "id": "47e39c1a",
   "metadata": {},
   "outputs": [],
   "source": [
    "# Try adding a string to a number\n",
    "2 + '4'"
   ]
  },
  {
   "cell_type": "markdown",
   "id": "3114946b",
   "metadata": {},
   "source": [
    "A `TypeError` occurs because you cannot directly add a string to a number without first casting the string representation to a numerical data type. "
   ]
  },
  {
   "cell_type": "code",
   "execution_count": null,
   "id": "3c355877",
   "metadata": {},
   "outputs": [],
   "source": [
    "# Try \"adding\" a number to a string\n",
    "'4' + 2"
   ]
  },
  {
   "cell_type": "markdown",
   "id": "125f5c9f",
   "metadata": {},
   "source": [
    "Another `TypeError` occurs when we flip the order of the string and integer. Notice this time that the `+` operator is trying to concatenate strings because the first value was a string. \n",
    "\n",
    "For a list of built-in exceptions and their meanings see the [Built-in Exceptions page](https://docs.python.org/3/library/exceptions.html)."
   ]
  },
  {
   "cell_type": "markdown",
   "id": "e51f1850",
   "metadata": {},
   "source": [
    "<hr style=\"border:1px solid gray\">\n",
    "\n",
    "## Handling Exceptions\n",
    "\n",
    "So, how can we deal with exceptions? We can explicitly write statements that handle selected exceptions. These are called `try` statements and can have `except` clauses, an `else` clause, or a `finally` clause. You might hear these referred to as *try blocks* or *try/except blocks*. Let's jump right into an example."
   ]
  },
  {
   "cell_type": "code",
   "execution_count": null,
   "id": "09676656",
   "metadata": {},
   "outputs": [],
   "source": [
    "# Very, very basic first example\n",
    "try:\n",
    "    fah = input('Please enter the temperature as Fahrenheit: ')\n",
    "    cel = (float(fah) - 32) * 5/9\n",
    "    print(f'Your input of {fah} degrees Fahrenheit is equivalent to {cel:.2f} degrees Celsius')\n",
    "except:\n",
    "    print('You did not enter a valid number.')"
   ]
  },
  {
   "cell_type": "markdown",
   "id": "e63002dc",
   "metadata": {},
   "source": [
    "First, the `try` clause is executed. If no exception occurs, the except clause is skipped and the execution of the statements within the `try` block is finished. If an exception occurs during the `try` clause, the rest of the `try` clause is skipped and `except` clause(s) are evaluated to see if the error type matches the named exceptions. In the example above, the `except` clause will catch all exceptions because we do not name any specific exceptions. While this may seem like a good idea, it is better to be explicit on which error types you are checking for and then potentially handling them differently. \n",
    "\n",
    "Let's look at another example that has multiple `except` clauses. Additionally, we will add an `else` clause. "
   ]
  },
  {
   "cell_type": "code",
   "execution_count": null,
   "id": "3f309a33",
   "metadata": {},
   "outputs": [],
   "source": [
    "# Exception handling with multiple except clauses and an else clause\n",
    "while True:\n",
    "    try:\n",
    "        num1 = float(input('Enter the numerator: '))\n",
    "        num2 = float(input('Enter the denominator: '))\n",
    "        answer = num1 / num2\n",
    "    except ValueError: # tried to convert non-numeric to float\n",
    "        print('You must enter valid numbers\\n')\n",
    "    except ZeroDivisionError: # denominator was 0\n",
    "        print('You cannot divide by 0\\n')\n",
    "    else: # execute only if no exceptions occur\n",
    "        print(f'{num1:.3f} / {num2:.3f} = {answer:.3f}')\n",
    "        # Now terminate the loop with break\n",
    "        break "
   ]
  },
  {
   "cell_type": "markdown",
   "id": "b95ed2dd",
   "metadata": {},
   "source": [
    "You can also catch multiple exceptions with a single `except` clause. Simply put each exception name inside of parentheses separated by commas. For example:\n",
    "\n",
    "```python\n",
    "except (TypeError, NameError, ZeroDivisonError):\n",
    "    # do same thing for all three errors\n",
    "```\n",
    "\n",
    "Sometimes, you do not always know all of the errors that could be raised when you are developing your program. One approach is to use `Exception` in the `except` clause and give it a name with the `as` keyword. Then you could print out the error and its type. The `Exception` class is the base class of all non-fatal exceptions. For example:\n",
    "\n",
    "```python\n",
    "try:\n",
    "    float(input('Enter a number:')) \n",
    "except Exception as err:\n",
    "    print(f'Unexpected {err=}, {type(err)}')\n",
    "```"
   ]
  },
  {
   "cell_type": "code",
   "execution_count": null,
   "id": "93391e42",
   "metadata": {},
   "outputs": [],
   "source": [
    "try:\n",
    "    float(input('Enter a number:'))\n",
    "except Exception as err:\n",
    "    print(f'Unexpected {err=}, {type(err)}')"
   ]
  },
  {
   "cell_type": "markdown",
   "id": "ce708cce",
   "metadata": {},
   "source": [
    "<hr style=\"border:1px solid gray\">\n",
    "\n",
    "## `finally` This Module is Over\n",
    "\n",
    "Well, almost. First, we need to talk about the `finally` clause. A `try` statement may have a `finally` clause as its last clause after any `except` clauses or `else` clause. The `finally` clause is guaranteed to execute, **regardless** of whether the statements in the `try` clause execute successfully or an exception occurs. One possible use of a `finally` clause is to provide any necessary \"clean up\" code. Perhaps the best way to understand the concept is with examples."
   ]
  },
  {
   "cell_type": "code",
   "execution_count": null,
   "id": "e788c829",
   "metadata": {},
   "outputs": [],
   "source": [
    "# No exceptions occur - finally will execute\n",
    "try:\n",
    "    print('Inside the try suite of statements')\n",
    "except:\n",
    "    print('This should not print - no exceptions')\n",
    "else:\n",
    "    print('The else clause will execute because no exceptions in try statements')\n",
    "finally:\n",
    "    print('finally ALWAYS executes')"
   ]
  },
  {
   "cell_type": "code",
   "execution_count": null,
   "id": "408e4022",
   "metadata": {},
   "outputs": [],
   "source": [
    "# An exception occurs \n",
    "try:\n",
    "    print('Inside the try suite of statements, but will raise an error')\n",
    "    int('two')\n",
    "    print('This print statement will not execute')\n",
    "except ValueError:\n",
    "    print('A ValueError occurred')\n",
    "else:\n",
    "    print('The else clause will NOT execute becaue there was an error')\n",
    "finally:\n",
    "    print('finally ALWAYS executes')"
   ]
  },
  {
   "cell_type": "markdown",
   "id": "9b0c8070",
   "metadata": {},
   "source": [
    "<hr style=\"border:1px solid gray\">\n",
    "\n",
    "<font color='red' size = '5'> Student Exercise </font>\n",
    "\n",
    "Using the code cells below complete the following tasks:\n",
    "\n",
    "1. Run the code cell that contains the definition of two lists. \n",
    "2. Write a `for` loop that iterates over the list `temps`, converting all of the valid numerical values from Fahrenheit to Celsius and printing the message: `56.20 degrees Fahrenheit is equivalent to 13.44 degrees Celsius.` If an element of the list cannot be converted, print a message that contains the error message and the type of the exception. HINT: The conversion formula is: \n",
    "\n",
    "$$\n",
    "(\\text{Fahrenheit} - 32.0) \\times \\frac{5}{9}\n",
    "$$\n",
    "\n",
    "3. Verify that your original exception handling that you created for the list `temps` also works for the list `another_list`.\n",
    "4. Modify your code to print out how many elements of the list were not able to be converted *after* the `for` loop.\n"
   ]
  },
  {
   "cell_type": "code",
   "execution_count": null,
   "id": "9cb4b347",
   "metadata": {},
   "outputs": [],
   "source": [
    "# 1. Run the code cell that contains the definition of two lists. \n",
    "# list of temperatures and a couple of invalid strings\n",
    "temps = [56.2,31.8,'x',81.7,45.6,71.3,'this is text',62.9,59.0,92.5,95.0,19.2,15.0]\n",
    "\n",
    "# Another list with other non-numerical values\n",
    "another_list = [78, 87, '98.2', 'y', [88], 65.0, {'key':'value'}]"
   ]
  },
  {
   "cell_type": "code",
   "execution_count": null,
   "id": "de918656",
   "metadata": {},
   "outputs": [],
   "source": [
    "# 2. Write a `for` loop that iterates over the list `temps`, converting all of the\n",
    "# valid numerical values from Fahrenheit to Celsius and printing the message: \n",
    "# `56.20 degrees Fahrenheit is equivalent to 13.44 degrees Celsius.` If an element\n",
    "# of the list cannot be converted, print a message that contains the error message\n",
    "# and the type of the exception.\n"
   ]
  },
  {
   "cell_type": "code",
   "execution_count": null,
   "id": "7f973419",
   "metadata": {},
   "outputs": [],
   "source": [
    "# 3. Verify that your original exception handling that you created for the list \n",
    "# `temps` also works for the list `another_list`.\n"
   ]
  },
  {
   "cell_type": "code",
   "execution_count": null,
   "id": "f311b6da",
   "metadata": {},
   "outputs": [],
   "source": [
    "# 4. Modify your code to print out how many elements of the \n",
    "# list were not able to be converted *after* the `for` loop.\n",
    "\n"
   ]
  },
  {
   "cell_type": "markdown",
   "id": "812c806d",
   "metadata": {},
   "source": [
    "<hr style=\"border:1px solid gray\">\n",
    "\n",
    "## Ancillary Information\n",
    "\n",
    "The following links point you to additional resources that you might find helpful in learning this material.\n",
    "\n",
    "1. The Python tutorial on [errors and exceptions][1].\n",
    "2. The list of [built-in exceptions and their meanings][2].\n",
    "\n",
    "\n",
    "-----\n",
    "\n",
    "[1]: https://docs.python.org/3/tutorial/errors.html\n",
    "[2]: https://docs.python.org/3/library/exceptions.html\n"
   ]
  },
  {
   "cell_type": "markdown",
   "id": "3183df1c",
   "metadata": {
    "deletable": false,
    "editable": false
   },
   "source": [
    "**&copy; 2022 - Present: Matthew D. Dean, Ph.D.   \n",
    "Clinical Associate Professor of Business Analytics at William \\& Mary.**"
   ]
  }
 ],
 "metadata": {
  "kernelspec": {
   "display_name": "Python 3 (ipykernel)",
   "language": "python",
   "name": "python3"
  },
  "language_info": {
   "codemirror_mode": {
    "name": "ipython",
    "version": 3
   },
   "file_extension": ".py",
   "mimetype": "text/x-python",
   "name": "python",
   "nbconvert_exporter": "python",
   "pygments_lexer": "ipython3",
   "version": "3.8.8"
  }
 },
 "nbformat": 4,
 "nbformat_minor": 5
}
