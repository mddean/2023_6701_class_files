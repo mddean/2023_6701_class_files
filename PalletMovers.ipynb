{
 "cells": [
  {
   "cell_type": "markdown",
   "id": "df85c54c",
   "metadata": {
    "nbgrader": {
     "grade": false,
     "grade_id": "cell-b5b36c43bf4b7d6b",
     "locked": true,
     "schema_version": 3,
     "solution": false,
     "task": false
    }
   },
   "source": [
    "# Read the Pallet Movers File on Canvas\n",
    "\n",
    "If you have not read the PDF file that accompanies this assignment found on Blackboard, you will most likely be **lost**."
   ]
  },
  {
   "cell_type": "markdown",
   "id": "00a751a8",
   "metadata": {
    "nbgrader": {
     "grade": false,
     "grade_id": "cell-3ab9d23746c1adaa",
     "locked": true,
     "schema_version": 3,
     "solution": false,
     "task": false
    }
   },
   "source": [
    "## Run the Next 2 Code Cells\n",
    "\n",
    "Run the next two code cells before attempting to complete the tasks. After running both code cells, you will have the following variables in memory and available for use in your tasks below.\n",
    "\n",
    "- A `list` variable named `hubs` that contains the cities where the hubs are located.\n",
    "- A `list` variable named `spokes` that contains the cities where the spokes are located.\n",
    "- A `list` variable named `requests` that contain the requests from potential customers for Pallet Movers to move their freight.\n",
    "\n",
    "After running the code cell, you should examine these lists to understand their structure, content, etc."
   ]
  },
  {
   "cell_type": "code",
   "execution_count": null,
   "id": "37948b9b",
   "metadata": {},
   "outputs": [],
   "source": [
    "!pip install nose"
   ]
  },
  {
   "cell_type": "code",
   "execution_count": 1,
   "id": "41eca49a",
   "metadata": {
    "nbgrader": {
     "grade": false,
     "grade_id": "cell-0069c6bce70923e6",
     "locked": true,
     "schema_version": 3,
     "solution": false,
     "task": false
    }
   },
   "outputs": [],
   "source": [
    "from nose.tools import assert_equal, assert_in, assert_is_instance\n",
    "from nose.tools import assert_almost_equal, assert_not_equal"
   ]
  },
  {
   "cell_type": "code",
   "execution_count": 2,
   "id": "38b8915e",
   "metadata": {
    "nbgrader": {
     "grade": false,
     "grade_id": "cell-5cdb0d2fc584674b",
     "locked": true,
     "schema_version": 3,
     "solution": false,
     "task": false
    }
   },
   "outputs": [
    {
     "name": "stdout",
     "output_type": "stream",
     "text": [
      "The variable requests has a type of <class 'list'>\n"
     ]
    }
   ],
   "source": [
    "import pandas as pd\n",
    "hubs = ['Pittsburgh', 'Newark', 'Richmond', 'Charlotte', 'Atlanta']\n",
    "spokes = ['Akron', 'Youngstown', 'Allentown', 'Harrisburg', 'Morgantown',\n",
    "          'White Plains', 'Trenton', 'Philadelphia', 'Elkton', 'Catskill',\n",
    "          'Charlottesville', 'Lynchburg', 'Newport News', 'Fredericksburg',\n",
    "          'South Hill', 'Greensboro', 'Fayetteville', 'Columbia',\n",
    "          'Spartanburg', 'Athens', 'Augusta', 'Chattanooga', 'Birmingham']\n",
    "requests = pd.read_csv('./data/requests.csv').to_dict(orient='records')\n",
    "print(f'The variable requests has a type of {type(requests)}')"
   ]
  },
  {
   "cell_type": "markdown",
   "id": "1435b4a3",
   "metadata": {
    "nbgrader": {
     "grade": false,
     "grade_id": "cell-c05988625bcff260",
     "locked": true,
     "schema_version": 3,
     "solution": false,
     "task": false
    }
   },
   "source": [
    "# 1. Find a Request\n",
    "\n",
    "Implement the function `find_request` below that takes a request `id` as an argument and returns the entire request as a dictionary. Your function should assume that the variable `requests` is in memory. You can also assume that every request has a unique id. Be sure to read the docstring of the function."
   ]
  },
  {
   "cell_type": "code",
   "execution_count": null,
   "id": "6c360f35",
   "metadata": {
    "nbgrader": {
     "grade": false,
     "grade_id": "cell-eaf806e613e31fa1",
     "locked": false,
     "schema_version": 3,
     "solution": true,
     "task": false
    }
   },
   "outputs": [],
   "source": [
    "def find_request(id):\n",
    "    \"\"\"\n",
    "    A function that returns a shipping request from the list `requests`\n",
    "    \n",
    "    Parameters\n",
    "    ----------\n",
    "    id: the string id of a request to find\n",
    "    \n",
    "    Returns\n",
    "    -------\n",
    "    request: the request as a dictionary. If the request is not found return None\n",
    "    \"\"\"\n",
    "    # YOUR CODE HERE\n",
    "    "
   ]
  },
  {
   "cell_type": "code",
   "execution_count": null,
   "id": "9ee69118",
   "metadata": {
    "nbgrader": {
     "grade": true,
     "grade_id": "cell-b92446e5a2c5fb82",
     "locked": true,
     "points": 10,
     "schema_version": 3,
     "solution": false,
     "task": false
    }
   },
   "outputs": [],
   "source": [
    "# Testing your function\n",
    "r1 = find_request('2023_01_0005')\n",
    "assert_equal(type(r1), dict, msg='Your function did not return a dictionary as required')\n",
    "assert_equal(r1['destination_city'], 'Allentown', msg='Your function did not return the right output')"
   ]
  },
  {
   "cell_type": "code",
   "execution_count": null,
   "id": "1d89c392",
   "metadata": {
    "nbgrader": {
     "grade": true,
     "grade_id": "cell-0333beffd2361ec9",
     "locked": true,
     "points": 10,
     "schema_version": 3,
     "solution": false,
     "task": false
    }
   },
   "outputs": [],
   "source": [
    "# Testing your function\n",
    "r2 = find_request('junk')\n",
    "assert_equal(r2, None, msg='Your function did not return None when the id was not found')"
   ]
  },
  {
   "cell_type": "markdown",
   "id": "f1e85662",
   "metadata": {
    "nbgrader": {
     "grade": false,
     "grade_id": "cell-a545c70ec962cdaa",
     "locked": true,
     "schema_version": 3,
     "solution": false,
     "task": false
    }
   },
   "source": [
    "# 2. Find Requests Based on Origin City\n",
    "\n",
    "You want to find all the requests based on a specific origin city found in the request. Implement the function `get_requests_by_origin_city` below. The function should return a list of dictionaries as indicated in the docstring. Your search must be case insensitive. "
   ]
  },
  {
   "cell_type": "code",
   "execution_count": null,
   "id": "5bbc17d2",
   "metadata": {
    "nbgrader": {
     "grade": false,
     "grade_id": "cell-57d13dcbe9bacec9",
     "locked": false,
     "schema_version": 3,
     "solution": true,
     "task": false
    }
   },
   "outputs": [],
   "source": [
    "def get_requests_by_origin_city(origin_city):\n",
    "    \"\"\"\n",
    "    A function that takes in the name of the origin city and returns \n",
    "    a list of all the requests for that particular origin city. The\n",
    "    search is case insensitive.\n",
    "    \n",
    "    Parameters\n",
    "    ----------\n",
    "    origin_city: a string representing the origin city to search for\n",
    "    \n",
    "    Returns\n",
    "    -------\n",
    "    results: a list of requests, where each request is a dictionary.\n",
    "             If no requests exist for the origin city, then return\n",
    "            an empty list.\n",
    "    \"\"\"\n",
    "    ### YOUR CODE HERE\n",
    "    "
   ]
  },
  {
   "cell_type": "code",
   "execution_count": null,
   "id": "101949a4",
   "metadata": {
    "nbgrader": {
     "grade": true,
     "grade_id": "cell-8b6d05c594987254",
     "locked": true,
     "points": 10,
     "schema_version": 3,
     "solution": false,
     "task": false
    }
   },
   "outputs": [],
   "source": [
    "# Testing your function\n",
    "richmond = get_requests_by_origin_city('ricHMond')\n",
    "assert_equal(type(richmond), list, msg='Your function did not return a list as required')\n",
    "assert_equal(len(richmond), 13, msg='Your function did not return the correct number of requests')\n",
    "assert_equal(richmond[5]['request_id'], '2023_01_0113', msg='Your function did not return the right output')"
   ]
  },
  {
   "cell_type": "code",
   "execution_count": null,
   "id": "03016290",
   "metadata": {
    "nbgrader": {
     "grade": true,
     "grade_id": "cell-a7f456f9daea3eb2",
     "locked": true,
     "points": 10,
     "schema_version": 3,
     "solution": false,
     "task": false
    }
   },
   "outputs": [],
   "source": [
    "# Testing your function\n",
    "bad_city = get_requests_by_origin_city('junk')\n",
    "assert_equal(type(bad_city), list, msg='Your function did not return a list the origin city was not found')\n",
    "assert_equal(len(bad_city), 0, msg='Your function did not return an empty list the origin city was not found')"
   ]
  },
  {
   "cell_type": "markdown",
   "id": "e159b4cc",
   "metadata": {
    "nbgrader": {
     "grade": false,
     "grade_id": "cell-2d3c6a809b7fc972",
     "locked": true,
     "schema_version": 3,
     "solution": false,
     "task": false
    }
   },
   "source": [
    "# 3. Finding Automatically Quotable Requests\n",
    "\n",
    "Currently, Pallet Movers manually reviews every request to generate a quote for the customer. A quote generally involves a price and estimated pickup and delivery dates based on the information that the customer provided in their request. Pallet Movers wants to streamline some of this manually intensive quoting process. Their IT department has devised a way to generate automatic quotes for a subset of requests. To use the automated quoting tool, both the origin and destination have to be part of their hub-and-spoke system. If either the origin or destination city is not in their network, the tool explodes and catches the home office on fire. Obviously, you want to avoid this situation because of your aversion to fire. \n",
    "\n",
    "You have been tasked to write a function that sifts through the requests, separating them into four lists. The first list should contain the requests that can be automatically quoted. The second list should contain the requests that only have an origin city **outside** of Pallet Movers network. The third list should contain the requests that only have a destination city **outside** of their network. The fourth list should contain the requests that have **both** the origin and destination cities outside of the network.\n",
    "\n",
    "Name your function `sort_requests`. It should have three arguments: \n",
    "\n",
    "1. `the_requests` which the big list of request to sort through\n",
    "2. `the_hubs` which is a list of the hub cities\n",
    "3. `the_spokes` which is a list of the spoke cities\n",
    "\n",
    "As noted above, the function should return all four lists in the order specified. You must also make sure that all of your sorting and searching is case insensitive to protect against a customer inadvertantly not using proper case when making the request."
   ]
  },
  {
   "cell_type": "code",
   "execution_count": null,
   "id": "9f0d1061",
   "metadata": {
    "nbgrader": {
     "grade": false,
     "grade_id": "cell-590b55a66c4e910e",
     "locked": false,
     "schema_version": 3,
     "solution": true,
     "task": false
    }
   },
   "outputs": [],
   "source": [
    "# Create your user-defined function here\n",
    "### YOUR CODE HERE\n"
   ]
  },
  {
   "cell_type": "code",
   "execution_count": null,
   "id": "b40a3fac",
   "metadata": {},
   "outputs": [],
   "source": [
    "# Test your function\n",
    "good, bad_o, bad_d, both_bad = sort_requests(requests, hubs, spokes)\n",
    "print(f'The number of quotable requests is {len(good)}')\n",
    "print(f'The number of bad origin requests is {len(bad_origin)}')\n",
    "print(f'The number of bad destination requests is {len(bad_dest)}')\n",
    "print(f'The number of both bad origin and destination requests is {len(both_bad)}')"
   ]
  },
  {
   "cell_type": "code",
   "execution_count": null,
   "id": "93b5f734",
   "metadata": {
    "nbgrader": {
     "grade": true,
     "grade_id": "cell-3d2ff214ba63763f",
     "locked": true,
     "points": 7,
     "schema_version": 3,
     "solution": false,
     "task": false
    }
   },
   "outputs": [],
   "source": [
    "# Test your function\n",
    "good, bad_o, bad_d, both_bad = sort_requests(requests, hubs, spokes)\n",
    "\n",
    "assert_equal(type(good), list, msg='Your function did not return a list for the first element of the tuple as required')\n",
    "assert_equal(type(good[-1]), dict, msg='The good list does not contain dictionaries')\n",
    "assert_equal(len(good), 306, msg='Your function did not return the correct number of good requests')"
   ]
  },
  {
   "cell_type": "code",
   "execution_count": null,
   "id": "8f0d0cc5",
   "metadata": {
    "nbgrader": {
     "grade": true,
     "grade_id": "cell-14bc4ff37e7568aa",
     "locked": true,
     "points": 7,
     "schema_version": 3,
     "solution": false,
     "task": false
    }
   },
   "outputs": [],
   "source": [
    "# Test your function\n",
    "good, bad_o, bad_d, both_bad = sort_requests(requests, hubs, spokes)\n",
    "\n",
    "assert_equal(type(bad_o), list, msg='Your function did not return a list for the second element of the tuple as required')\n",
    "assert_equal(type(bad_o[0]), dict, msg='The bad origin list does not contain dictionaries')\n",
    "assert_equal(len(bad_o), 5, msg='Your function did not return the correct number of bad origin requests')"
   ]
  },
  {
   "cell_type": "code",
   "execution_count": null,
   "id": "d703a36f",
   "metadata": {
    "nbgrader": {
     "grade": true,
     "grade_id": "cell-374e2b8befd481a8",
     "locked": true,
     "points": 7,
     "schema_version": 3,
     "solution": false,
     "task": false
    }
   },
   "outputs": [],
   "source": [
    "# Test your function\n",
    "good, bad_o, bad_d, both_bad = sort_requests(requests, hubs, spokes)\n",
    "\n",
    "assert_equal(type(bad_d), list, msg='Your function did not return a list for the third element of the tuple as required')\n",
    "assert_equal(type(bad_d[0]), dict, msg='The bad destination list does not contain dictionaries')\n",
    "assert_equal(len(bad_d), 4, msg='Your function did not return the correct number of bad destination requests')"
   ]
  },
  {
   "cell_type": "code",
   "execution_count": null,
   "id": "daa56969",
   "metadata": {
    "nbgrader": {
     "grade": true,
     "grade_id": "cell-91d9c7e7c5d83d16",
     "locked": true,
     "points": 7,
     "schema_version": 3,
     "solution": false,
     "task": false
    }
   },
   "outputs": [],
   "source": [
    "# Test your function\n",
    "good, bad_o, bad_d, both_bad = sort_requests(requests, hubs, spokes)\n",
    "\n",
    "assert_equal(type(both_bad), list, msg='Your function did not return a list for the fourth element of the tuple as required')\n",
    "assert_equal(type(both_bad[0]), dict, msg='The both bad list does not contain dictionaries')\n",
    "assert_equal(len(both_bad), 2, msg='Your function did not return the correct number of both bad requests')"
   ]
  },
  {
   "cell_type": "code",
   "execution_count": null,
   "id": "2fecaf1a",
   "metadata": {
    "nbgrader": {
     "grade": true,
     "grade_id": "cell-0f09fc1bb0a9d2a3",
     "locked": true,
     "points": 7,
     "schema_version": 3,
     "solution": false,
     "task": false
    }
   },
   "outputs": [],
   "source": [
    "# Test your function\n",
    "good, bad_o, bad_d, both_bad = sort_requests(requests, hubs, spokes)\n",
    "\n",
    "assert_equal(type(bad_d[1]), dict, msg='The bad destination list does not contain dictionaries')\n",
    "assert_equal(bad_d[1]['destination_city'], 'Cartersville', msg='Your function did not return the correct name of the of bad destination city')"
   ]
  },
  {
   "cell_type": "markdown",
   "id": "7fc5a76a",
   "metadata": {
    "nbgrader": {
     "grade": false,
     "grade_id": "cell-4f2e90a5a167af7e",
     "locked": true,
     "schema_version": 3,
     "solution": false,
     "task": false
    }
   },
   "source": [
    "**&copy; 2022 - Present: Matthew D. Dean, Ph.D.   \n",
    "Clinical Associate Professor of Business Analytics at William \\& Mary.**"
   ]
  }
 ],
 "metadata": {
  "celltoolbar": "Create Assignment",
  "kernelspec": {
   "display_name": "Python 3 (ipykernel)",
   "language": "python",
   "name": "python3"
  },
  "language_info": {
   "codemirror_mode": {
    "name": "ipython",
    "version": 3
   },
   "file_extension": ".py",
   "mimetype": "text/x-python",
   "name": "python",
   "nbconvert_exporter": "python",
   "pygments_lexer": "ipython3",
   "version": "3.8.8"
  }
 },
 "nbformat": 4,
 "nbformat_minor": 5
}
