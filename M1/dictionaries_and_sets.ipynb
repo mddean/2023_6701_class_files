{
 "cells": [
  {
   "cell_type": "markdown",
   "metadata": {
    "tags": []
   },
   "source": [
    "# Dictionaries and Sets\n",
    "\n",
    "<hr style=\"border:1px solid gray\">\n",
    "\n",
    "## Dictionaries\n",
    "\n",
    "One of the most useful built-in data types in Python is the dictionary or the `dict` type. A dictionary is a collection that is *mutable*. The elements of the collection are **key-value** pairs. Instead of being indexed by a range of numbers (like a `list` or `tuple`), a dictionary is indexed by *keys* which can be any immutable type. For example, strings and numbers can always be keys. You **cannot** use `list`s as keys since they can be modified in place. The values in the dictionary can be any valid data type.\n",
    "\n",
    "It is best to think of dictionaries as *key:value* pairs with the requirement that keys are unique. To create a dictionary, you place comma-separated key:value pairs inside of curly braces, `{}`. You will use the **key** to look up or find the **value**.\n",
    "\n",
    "Beginning in Python version 3.7, dictionaries are guaranteed to be **ordered** by insertion order. Older versions of Python do not guarantee insertion order. What this means is that if you print out a dictionary in older Python versions, the results may not be in the order you added data to the dictionary. This change also actually saves memory when creating and using dictionaries.\n",
    "\n",
    "Let's create an income statement as a dictionary for our company."
   ]
  },
  {
   "cell_type": "code",
   "execution_count": null,
   "metadata": {},
   "outputs": [],
   "source": [
    "# Create an income statement dictionary\n",
    "income_stmt = {'Revenue': 100,\n",
    "             'COGS': 52,\n",
    "             'Gross Margin': 45,\n",
    "             'SG&A': 40,\n",
    "             'Net Income': 5}\n",
    "\n",
    "print(income_stmt)"
   ]
  },
  {
   "cell_type": "markdown",
   "metadata": {},
   "source": [
    "### Retrieving Elements\n",
    "\n",
    "We use the **key** to get the **value** out of a dictionary. We pass the key between square brackets after the name of the dictionary. This is similar to retrieving elements of a list, except the keys can be something other than integers. \n",
    "\n",
    "Let's get our cost of goods sold value from the income statement."
   ]
  },
  {
   "cell_type": "code",
   "execution_count": null,
   "metadata": {},
   "outputs": [],
   "source": [
    "# Retrieve an element using the key\n",
    "income_stmt['COGS']"
   ]
  },
  {
   "cell_type": "markdown",
   "metadata": {},
   "source": [
    "### Adding to a Dictionary\n",
    "\n",
    "We often want to add a new key-value pair to the dictionary. In our case, we forgot to include the fiscal year for our income statement. We can add a new key-value pair by calling `dictionary_name[new_key] = new_value`. Let's add the fiscal year to our income statement."
   ]
  },
  {
   "cell_type": "code",
   "execution_count": null,
   "metadata": {},
   "outputs": [],
   "source": [
    "# To add a key-value to a dictionary, assign the value to a new key\n",
    "# Add \"Fiscal Year\": 2022\n",
    "income_stmt['Fiscal Year'] = 2022\n",
    "print(income_stmt)"
   ]
  },
  {
   "cell_type": "markdown",
   "metadata": {},
   "source": [
    "### Changing a Value\n",
    "\n",
    "We can overwrite (i.e., change) the value of a key-value pair by calling `dictionary_name[existing_key] = new_value`. Suppose we wanted to change our fiscal year to 1998. Let's try it."
   ]
  },
  {
   "cell_type": "code",
   "execution_count": null,
   "metadata": {},
   "outputs": [],
   "source": [
    "# To change a value, access it using the key and reassign\n",
    "# Change the fiscal year to 1998\n",
    "income_stmt['Fiscal Year'] = 1998\n",
    "print(income_stmt)"
   ]
  },
  {
   "cell_type": "markdown",
   "metadata": {},
   "source": [
    "#### CAUTION\n",
    "\n",
    "When trying to add a new key-value pair, if the key already exists, it will simply overwrite the existing value. Therefore, you may want to first check to see if a key is already in the dictionary before trying to add the data. For this you could look at all the keys as a list. An easier approach is to use the `in` keyword to see if the key exists in the dictionary."
   ]
  },
  {
   "cell_type": "code",
   "execution_count": null,
   "metadata": {},
   "outputs": [],
   "source": [
    "# Get the keys of the dictionary as a list\n",
    "list(income_stmt)"
   ]
  },
  {
   "cell_type": "code",
   "execution_count": null,
   "metadata": {},
   "outputs": [],
   "source": [
    "# You can use the `in` operator to determine if the key exists\n",
    "'COGS' in income_stmt"
   ]
  },
  {
   "cell_type": "code",
   "execution_count": null,
   "metadata": {},
   "outputs": [],
   "source": [
    "'cogs' in income_stmt"
   ]
  },
  {
   "cell_type": "markdown",
   "metadata": {},
   "source": [
    "### How Many Elements\n",
    "\n",
    "You can see how many key-value pairs are in the dictionary by use the `len` function.  "
   ]
  },
  {
   "cell_type": "code",
   "execution_count": null,
   "metadata": {},
   "outputs": [],
   "source": [
    "# How many key-value pairs in income_stmt?\n",
    "print(f'income_stmt has {len(income_stmt)} key-value pairs')"
   ]
  },
  {
   "cell_type": "markdown",
   "metadata": {},
   "source": [
    "### Deleting Elements\n",
    "\n",
    "If you want to delete an element from the dictionary, you can use the statement `del dictionary_name[key_to_delete]`. "
   ]
  },
  {
   "cell_type": "code",
   "execution_count": null,
   "metadata": {},
   "outputs": [],
   "source": [
    "# Delete 'Fiscal Year'\n",
    "del income_stmt['Fiscal Year']\n",
    "print(income_stmt)\n",
    "print(f'income_stmt has {len(income_stmt)} key-value pairs')"
   ]
  },
  {
   "cell_type": "markdown",
   "metadata": {},
   "source": [
    "### Creating an Empty Dictionary\n",
    "\n",
    "Sometimes you will create an empty dictionary and then add elements to it. To create an empty dictionary, simply use curly braces on the right-hand-side of the equal sign with nothing between them. Let's try it."
   ]
  },
  {
   "cell_type": "code",
   "execution_count": null,
   "metadata": {},
   "outputs": [],
   "source": [
    "# Create empty dictionary\n",
    "my_dictionary = {}\n",
    "print(my_dictionary)\n",
    "print(f'my_dictionary contains {len(my_dictionary)} elements')"
   ]
  },
  {
   "cell_type": "code",
   "execution_count": null,
   "metadata": {},
   "outputs": [],
   "source": [
    "# Add something to my_dictionary for fun\n",
    "my_dictionary['odd_nums'] = [1,3,5,7,9]\n",
    "print(my_dictionary)"
   ]
  },
  {
   "cell_type": "markdown",
   "metadata": {},
   "source": [
    "<hr style=\"border:1px solid gray\">\n",
    "\n",
    "<font color='red' size = '5'> Student Exercise </font>\n",
    "\n",
    "Complete the following tasks in the empty **Code** cells below.\n",
    "\n",
    "1. Create a new empty dictionary called `fun_dictionary`. Be sure to print its type and how many elements are in it to make sure you have done this task correctly.\n",
    "2. Add the following key-value pairs to `fun_dictionary` and then print it:\n",
    "    - `ice cream flavors` : `['chocolate', 'vanilla', 'strawberry', 'rocky road']`\n",
    "    - `colors` : `['red', 'orange', 'yellow', 'green', 'blue', 'indigo', 'violet']`\n",
    "    - `version` : 0.1\n",
    "    - `date` : today's date\n",
    "3. Use the `in` operator to see if the key `version` is in `fun_dictionary`.\n",
    "4. How many entries are in `fun_dictionary`?\n",
    "\n",
    "<hr style=\"border:1px solid gray\">"
   ]
  },
  {
   "cell_type": "code",
   "execution_count": null,
   "metadata": {},
   "outputs": [],
   "source": [
    "# 1. Create a new empty dictionary called `fun_dictionary`.\n"
   ]
  },
  {
   "cell_type": "code",
   "execution_count": null,
   "metadata": {},
   "outputs": [],
   "source": [
    "# 2. Add the following key-value pairs to `fun_dictionary`:\n",
    "#    - `ice cream flavors` : `['chocolate', 'vanilla', 'strawberry', 'rocky road']`\n",
    "#    - `colors` : `['red', 'orange', 'yellow', 'green', 'blue', 'indigo', 'violet']`\n",
    "#    - `version` : 0.1\n",
    "#    - `date` : today's date\n"
   ]
  },
  {
   "cell_type": "code",
   "execution_count": null,
   "metadata": {},
   "outputs": [],
   "source": [
    "# 3. Use the `in` operator to see if the key `version` is in `fun_dictionary`.\n"
   ]
  },
  {
   "cell_type": "code",
   "execution_count": null,
   "metadata": {},
   "outputs": [],
   "source": [
    "# 4. How many entries are in `fun_dictionary`?\n"
   ]
  },
  {
   "cell_type": "markdown",
   "metadata": {},
   "source": [
    "<hr style=\"border:1px solid gray\">\n",
    "\n",
    "### Some Dictionary Methods\n",
    "\n",
    "Dictionary objects have several methods. Here we will look at a few of most useful ones. They include: `clear`, `get`, `items`, `keys`, `pop`, `popitem`, and `values`. \n",
    "\n",
    "Let's start with `get`. It is an alternative to using the square brackets for getting a value from a dictionary. It does not raise an excpetion if the key is not present. The syntax is `dictionary_name.get(key, default)` where the optional argument `default` is what will be returned if the key is not in the dictionary. "
   ]
  },
  {
   "cell_type": "code",
   "execution_count": null,
   "metadata": {},
   "outputs": [],
   "source": [
    "# Get value for the key COGS\n",
    "income_stmt.get('COGS')"
   ]
  },
  {
   "cell_type": "code",
   "execution_count": null,
   "metadata": {},
   "outputs": [],
   "source": [
    "# What happens if the key does not exist\n",
    "income_stmt.get('cogs')"
   ]
  },
  {
   "cell_type": "code",
   "execution_count": null,
   "metadata": {},
   "outputs": [],
   "source": [
    "# Try again using the parameter `default`\n",
    "income_stmt.get('cogs', 'Entry not found')"
   ]
  },
  {
   "cell_type": "markdown",
   "metadata": {},
   "source": [
    "If you want to completely delete all the elements in a dictionary, you can use the `clear` function. This will leave the dictionary empty. Let's try it."
   ]
  },
  {
   "cell_type": "code",
   "execution_count": null,
   "metadata": {},
   "outputs": [],
   "source": [
    "# First see what is in it\n",
    "print(my_dictionary)"
   ]
  },
  {
   "cell_type": "code",
   "execution_count": null,
   "metadata": {},
   "outputs": [],
   "source": [
    "# Empty out my_dictionary\n",
    "my_dictionary.clear()"
   ]
  },
  {
   "cell_type": "code",
   "execution_count": null,
   "metadata": {},
   "outputs": [],
   "source": [
    "# Print my_dictionary out again to see if it is empty\n",
    "print(my_dictionary)"
   ]
  },
  {
   "cell_type": "markdown",
   "metadata": {},
   "source": [
    "To get all the keys from a dictionary, you use the `keys` method. To get all the values from a dictionary, you use the `values` method. If you want both the keys and values as tuples, then use the `items` method. Let's look at each of them."
   ]
  },
  {
   "cell_type": "code",
   "execution_count": null,
   "metadata": {},
   "outputs": [],
   "source": [
    "print(income_stmt.keys())"
   ]
  },
  {
   "cell_type": "code",
   "execution_count": null,
   "metadata": {},
   "outputs": [],
   "source": [
    "print(income_stmt.values())"
   ]
  },
  {
   "cell_type": "code",
   "execution_count": null,
   "metadata": {},
   "outputs": [],
   "source": [
    "# To get all the items as an iterable object, you call .items()\n",
    "print(income_stmt.items())"
   ]
  },
  {
   "cell_type": "code",
   "execution_count": null,
   "metadata": {},
   "outputs": [],
   "source": [
    "# As a preview let's loop through the dictionary\n",
    "# Call .items() and unpack each tuple and print\n",
    "for k, v in income_stmt.items():\n",
    "    print(f'key: {k:15}value: {v:>5}')"
   ]
  },
  {
   "cell_type": "markdown",
   "metadata": {},
   "source": [
    "The function `pop` returns the **value** of the associated element, if it exists, and then **removes** the entry from the dictionary. When you call `dictionary_name.pop(key, default)` it will return the value for the specified key, or, if the key does not exist, the value passed to the `default` argument. "
   ]
  },
  {
   "cell_type": "code",
   "execution_count": null,
   "metadata": {},
   "outputs": [],
   "source": [
    "# Print out income_stmt first to see it\n",
    "print(income_stmt)"
   ]
  },
  {
   "cell_type": "code",
   "execution_count": null,
   "metadata": {},
   "outputs": [],
   "source": [
    "# Let's pop 'Net Income'\n",
    "print(income_stmt.pop('Net Income', 'Entry not found'))"
   ]
  },
  {
   "cell_type": "code",
   "execution_count": null,
   "metadata": {},
   "outputs": [],
   "source": [
    "# Print income_stmt to see if 'Net Income' has been deleted\n",
    "print('income_stmt is now:')\n",
    "print(income_stmt)"
   ]
  },
  {
   "cell_type": "code",
   "execution_count": null,
   "metadata": {},
   "outputs": [],
   "source": [
    "# Try something that is not in dictionary\n",
    "income_stmt.pop('junk', 'Entry not found')"
   ]
  },
  {
   "cell_type": "markdown",
   "metadata": {},
   "source": [
    "The function `popitem` removes and returns the last inserted element in the dictionary. The LIFO order is guaranteed in Python versions >=3.7. In older versions of Python `popitem` would return and remove an arbitrary element in the dictionary. If you call `dictionary_name.popitem()` on an empty dictionary, it will raise a `KeyError`. "
   ]
  },
  {
   "cell_type": "code",
   "execution_count": null,
   "metadata": {},
   "outputs": [],
   "source": [
    "# This should return the last entry in the dictionary\n",
    "last_item = income_stmt.popitem()\n",
    "print(f'last_item is {last_item} and has type {type(last_item)}')"
   ]
  },
  {
   "cell_type": "code",
   "execution_count": null,
   "metadata": {},
   "outputs": [],
   "source": [
    "# Unpack the last entry\n",
    "last_key, last_value = last_item\n",
    "\n",
    "print('After calling income_stmt.popitem() we have:')\n",
    "print(f'\\tlast_key   = {last_key}')\n",
    "print(f'\\tlast_value = {last_value}')"
   ]
  },
  {
   "cell_type": "markdown",
   "metadata": {},
   "source": [
    "<hr style=\"border:1px solid gray\">\n",
    "\n",
    "<font color='red' size = '5'> Student Exercise </font>\n",
    "\n",
    "Complete the following tasks in the empty **Code** cells below using the `fun_dictionary` that you created in the previous student exercise.\n",
    "\n",
    "1. Retrieve and print the value associated with the key `version`.\n",
    "2. Update the `version` to '0.1.1'. Print `fun_dictionary` to verify your update worked.\n",
    "3. Print all of the keys in `fun_dictionary`.\n",
    "4. Print all of the values in `fun_dictionary`.\n",
    "5. Print all of the key-value pairs in `fun_dictionary`.\n",
    "6. Retrieve and remove the last item that you added to `fun_dictionary`. Unpack the tuple as `fun_key` and `fun_value` and print them out.\n",
    "\n",
    "<hr style=\"border:1px solid gray\">"
   ]
  },
  {
   "cell_type": "code",
   "execution_count": null,
   "metadata": {},
   "outputs": [],
   "source": [
    "# 1. Retrieve and print the value associated with the key `version`.\n"
   ]
  },
  {
   "cell_type": "code",
   "execution_count": null,
   "metadata": {},
   "outputs": [],
   "source": [
    "# 2. Update the `version` to 0.1.1\n"
   ]
  },
  {
   "cell_type": "code",
   "execution_count": null,
   "metadata": {},
   "outputs": [],
   "source": [
    "# 3. Print all of the keys in `fun_dictionary`.\n"
   ]
  },
  {
   "cell_type": "code",
   "execution_count": null,
   "metadata": {},
   "outputs": [],
   "source": [
    "# 4. Print all of the values in `fun_dictionary`.\n"
   ]
  },
  {
   "cell_type": "code",
   "execution_count": null,
   "metadata": {},
   "outputs": [],
   "source": [
    "# 5. Print all of the key-value pairs in `fun_dictionary`.\n"
   ]
  },
  {
   "cell_type": "code",
   "execution_count": null,
   "metadata": {},
   "outputs": [],
   "source": [
    "# 6. Retrieve and remove the last item that you added to `fun_dictionary`.\n",
    "#    Unpack the tuple as `fun_key` and `fun_value` and print them out.\n"
   ]
  },
  {
   "cell_type": "markdown",
   "metadata": {},
   "source": [
    "<hr style=\"border:1px solid gray\">\n",
    "\n",
    "## Sets\n",
    "\n",
    "A **set** contains a collection of unique values. You can think of it like a mathematical set. Characteristics of sets include:\n",
    "\n",
    "- All the elements must be unique.\n",
    "- Sets are unordered, i.e., elements in a set are not stored in any particular order.\n",
    "- The elements in a set can be of different data types.\n",
    "\n",
    "Being an unordered collection, sets do not record element position or order of insertion. What this means is that sets do not support indexing, slicing, or other sequence-like behavior. You can however, still use the `in` operator, the `len()` function, and loop over a set (looping is in another module).\n",
    "\n",
    "### Creating a Set\n",
    "\n",
    "To create a set, give it a name and on the right-hand-side of the equal sign use `set()`. This will create an **empty** set. If you want to create a set with entries, you can pass it a list or any iterable object. Let's try creating a few different sets."
   ]
  },
  {
   "cell_type": "code",
   "execution_count": null,
   "metadata": {},
   "outputs": [],
   "source": [
    "# Create an empty set\n",
    "my_empty_set = set()\n",
    "\n",
    "# Print it\n",
    "print(my_empty_set)\n",
    "\n",
    "# Print how many elements\n",
    "print(f'my_empty_set has {len(my_empty_set)} elements in it')"
   ]
  },
  {
   "cell_type": "markdown",
   "metadata": {},
   "source": [
    "#### Creating a Set with a `list`\n",
    "\n",
    "Now, let's create a set by passing in a list."
   ]
  },
  {
   "cell_type": "code",
   "execution_count": null,
   "metadata": {},
   "outputs": [],
   "source": [
    "# Create a set with odd numbers\n",
    "my_set_of_odd_nums = set([1,3,5,7,9])\n",
    "\n",
    "# Print it\n",
    "print(my_set_of_odd_nums)\n",
    "\n",
    "# How many elements?\n",
    "print(f'my_set_of_odd_nums has {len(my_set_of_odd_nums)} elements')"
   ]
  },
  {
   "cell_type": "markdown",
   "metadata": {},
   "source": [
    "Notice that when a set is printed out it has curly braces around it. Do **NOT** confuse this with a dictionary. Remember, a dictionary has key-value pairs. You can see from the print statement that the set only has values.\n",
    "\n",
    "Now, let's try something crazy. Let's try creating a set with a string. Recall that strings are just a text sequence and sequences are iterable. Let's see what happens."
   ]
  },
  {
   "cell_type": "code",
   "execution_count": null,
   "metadata": {},
   "outputs": [],
   "source": [
    "# Create the string\n",
    "short_string = 'This is a string'\n",
    "\n",
    "# Create a set by passing in a string\n",
    "str_set = set(short_string)\n",
    "\n",
    "print(str_set)\n",
    "print(f'short_string has {len(short_string)} characters')\n",
    "print(f'str_set has {len(str_set)} elements')"
   ]
  },
  {
   "cell_type": "markdown",
   "metadata": {},
   "source": [
    "Notice that the set is **unordered** and the values are **unique**. For example, even though the lowercase letter `s` is in the string 3 times, it is only in the set once. \n",
    "\n",
    "What if, instead of making the set contain individual characters from a string, we wanted it to contain the words from the sentence? There is a function called `split()` that you can call on a string object. It returns a list of \"words\" where it splits on whitespace. (We will see this concept again.) Let's try splitting `short_string` and send in the resulting list when creating a set."
   ]
  },
  {
   "cell_type": "code",
   "execution_count": null,
   "metadata": {},
   "outputs": [],
   "source": [
    "# Split short_string and send it to set()\n",
    "str_set2 = set(short_string.split())\n",
    "\n",
    "print(str_set2)\n",
    "print(f'str_set2 has {len(str_set2)} elements')"
   ]
  },
  {
   "cell_type": "markdown",
   "metadata": {},
   "source": [
    "*Thought Exercise:* In this case our string `short_string` does not have any repeating words. If it did, what would the resulting `set` look like?"
   ]
  },
  {
   "cell_type": "markdown",
   "metadata": {},
   "source": [
    "### Creating a Set with `{}`\n",
    "\n",
    "You can also create a `set` by sending comma-separated elements inside curly braces, `{}`. Let's try it. NOTE: You **cannot** send in a `list` as one of the elements to be added to set."
   ]
  },
  {
   "cell_type": "code",
   "execution_count": null,
   "metadata": {},
   "outputs": [],
   "source": [
    "# Create a set using {}\n",
    "another_set = {'Wow', 76, 3.14159}\n",
    "print(another_set)\n",
    "print(f'another_set has {len(another_set)} elements')"
   ]
  },
  {
   "cell_type": "markdown",
   "metadata": {},
   "source": [
    "### Adding and Deleting Elements to a Set\n",
    "\n",
    "Adding elements is accomplished by using the `add` method. There is also an `update` method that allows you to pass a list of elements to be added to the set. \n",
    "\n",
    "To remove elements from a set, you can use the `remove` method or the `discard` method. The `remove` method will raise a `KeyError` exception if the element does not exist in the set; `discard` does not. \n",
    "\n",
    "Now, let's create an empty set and then add and remove elements from it."
   ]
  },
  {
   "cell_type": "code",
   "execution_count": null,
   "metadata": {},
   "outputs": [],
   "source": [
    "# Create an empty set and then add elements to it\n",
    "play_set = set()\n",
    "\n",
    "print(play_set)\n",
    "print(f'play_set has {len(play_set)} elements in it')"
   ]
  },
  {
   "cell_type": "code",
   "execution_count": null,
   "metadata": {},
   "outputs": [],
   "source": [
    "# Add a few elements\n",
    "play_set.add('A String')\n",
    "play_set.add(42)\n",
    "play_set.add(9.87)\n",
    "\n",
    "print(play_set)\n",
    "print(f'play_set has {len(play_set)} elements in it')"
   ]
  },
  {
   "cell_type": "code",
   "execution_count": null,
   "metadata": {},
   "outputs": [],
   "source": [
    "# Try adding 42 to play_set again\n",
    "play_set.add(42)\n",
    "\n",
    "print(play_set)\n",
    "print(f'play_set has {len(play_set)} elements in it')"
   ]
  },
  {
   "cell_type": "code",
   "execution_count": null,
   "metadata": {},
   "outputs": [],
   "source": [
    "# Try using .update() to add elements to a set\n",
    "play_set.update(['another', 'bunch', 45])\n",
    "\n",
    "print(play_set)\n",
    "print(f'play_set has {len(play_set)} elements in it')"
   ]
  },
  {
   "cell_type": "code",
   "execution_count": null,
   "metadata": {},
   "outputs": [],
   "source": [
    "# Try .update() with a string by itself\n",
    "play_set.update('xyz')\n",
    "\n",
    "print(play_set)\n",
    "print(f'play_set has {len(play_set)} elements in it')"
   ]
  },
  {
   "cell_type": "code",
   "execution_count": null,
   "metadata": {},
   "outputs": [],
   "source": [
    "# Try removing 'x' from play_set\n",
    "play_set.remove('x')\n",
    "\n",
    "print(play_set)\n",
    "print(f'play_set has {len(play_set)} elements in it')"
   ]
  },
  {
   "cell_type": "code",
   "execution_count": null,
   "metadata": {},
   "outputs": [],
   "source": [
    "# Try removing a non-existing element with `discard`\n",
    "play_set.discard('Not there')\n",
    "\n",
    "print(play_set)\n",
    "print(f'play_set has {len(play_set)} elements in it')"
   ]
  },
  {
   "cell_type": "code",
   "execution_count": null,
   "metadata": {},
   "outputs": [],
   "source": [
    "# Try removing a non-existing element with `remove`\n",
    "play_set.remove('Not there')\n",
    "\n",
    "print(play_set)\n",
    "print(f'play_set has {len(play_set)} elements in it')"
   ]
  },
  {
   "cell_type": "markdown",
   "metadata": {},
   "source": [
    "#### Mathematical Set Functions\n",
    "\n",
    "Commonly used mathematical set operations are also available to use on Python sets. You can find the *union* of sets using the `union` method or the shortcut operator `|`. You can find the *intersection* of sets using the `intersection` method or the shortcut operator `&`. You can also find the *difference* and *symmetric difference* of sets using the `difference` and `symmetric_difference` methods. There are also methods that let you determine if a set is a *subset* or a *superset*. We will not cover these topics here, but I encourage you to explore the ancillary information below for details."
   ]
  },
  {
   "cell_type": "markdown",
   "metadata": {},
   "source": [
    "<hr style=\"border:1px solid gray\">\n",
    "\n",
    "<font color='red' size = '5'> Student Exercise </font>\n",
    "\n",
    "Complete the following tasks in the empty **Code** cells below.\n",
    "\n",
    "1. Create a new empty set called `fun_set`. Be sure to print its type and how many elements are in it to make sure you have done this task correctly.\n",
    "2. Try adding the following values to `fun_set` and then print it and its length:\n",
    "    - add a list : `['chocolate', 'vanilla', 'strawberry', 'rocky road']`\n",
    "    - add a number : 42\n",
    "    - add a string : `'indigo'`\n",
    "    - add a number : 42.0\n",
    "    - add a number : 42\n",
    "3. Use the `in` operator to see if the value 42 is in `fun_set`.\n",
    "4. Use the `in` operator to see if the value 42.0 is in `fun_set`.\n",
    "\n",
    "What interesting detail did you notice from adding and checking for values in the set?\n",
    "\n",
    "<hr style=\"border:1px solid gray\">"
   ]
  },
  {
   "cell_type": "code",
   "execution_count": null,
   "metadata": {},
   "outputs": [],
   "source": [
    "# 1. Create a new empty set called `fun_set`.\n",
    "# Be sure to print its type and how many elements are in it \n",
    "# to make sure you have done this task correctly.\n"
   ]
  },
  {
   "cell_type": "code",
   "execution_count": null,
   "metadata": {},
   "outputs": [],
   "source": [
    "# 2. Try adding the following values to `fun_set` and then print it and its length:\n",
    "#    - add a list : `['chocolate', 'vanilla', 'strawberry', 'rocky road']`\n",
    "#    - add a number : 42\n",
    "#    - add a string : `'indigo'`\n",
    "#    - add a number : 42.0\n",
    "#    - add a number : 42\n"
   ]
  },
  {
   "cell_type": "code",
   "execution_count": null,
   "metadata": {},
   "outputs": [],
   "source": [
    "# 3. Use the `in` operator to see if the value 42 is in `fun_set`.\n"
   ]
  },
  {
   "cell_type": "code",
   "execution_count": null,
   "metadata": {},
   "outputs": [],
   "source": [
    "# 4. Use the `in` operator to see if the value 42.0 is in `fun_set`.\n"
   ]
  },
  {
   "cell_type": "markdown",
   "metadata": {},
   "source": [
    "## Ancillary Information\n",
    "\n",
    "The following links point you to additional resources that you might find helpful in learning this material.\n",
    "\n",
    "- The official Python tutorial about [dictionaries][1].\n",
    "- The official Python documentation for the [`dict` class][2].\n",
    "- The official Python documentation for [sets][3].\n",
    "\n",
    "-----\n",
    "\n",
    "[1]: https://docs.python.org/3/tutorial/datastructures.html#dictionaries\n",
    "[2]: https://docs.python.org/3/library/stdtypes.html?#mapping-types-dict\n",
    "[3]: https://docs.python.org/3/library/stdtypes.html?#set-types-set-frozenset"
   ]
  },
  {
   "cell_type": "markdown",
   "metadata": {
    "deletable": false,
    "editable": false,
    "tags": []
   },
   "source": [
    "**&copy; 2022 - Present: Matthew D. Dean, Ph.D.   \n",
    "Clinical Associate Professor of Business Analytics at William \\& Mary.**"
   ]
  }
 ],
 "metadata": {
  "kernelspec": {
   "display_name": "Python 3 (ipykernel)",
   "language": "python",
   "name": "python3"
  },
  "language_info": {
   "codemirror_mode": {
    "name": "ipython",
    "version": 3
   },
   "file_extension": ".py",
   "mimetype": "text/x-python",
   "name": "python",
   "nbconvert_exporter": "python",
   "pygments_lexer": "ipython3",
   "version": "3.8.8"
  }
 },
 "nbformat": 4,
 "nbformat_minor": 4
}
